{
 "cells": [
  {
   "cell_type": "code",
   "execution_count": 1,
   "id": "6869c336",
   "metadata": {
    "_cell_guid": "b1076dfc-b9ad-4769-8c92-a6c4dae69d19",
    "_uuid": "8f2839f25d086af736a60e9eeb907d3b93b6e0e5",
    "execution": {
     "iopub.execute_input": "2024-12-15T05:41:14.313270Z",
     "iopub.status.busy": "2024-12-15T05:41:14.312930Z",
     "iopub.status.idle": "2024-12-15T05:41:22.408232Z",
     "shell.execute_reply": "2024-12-15T05:41:22.407261Z"
    },
    "papermill": {
     "duration": 8.107904,
     "end_time": "2024-12-15T05:41:22.410225",
     "exception": false,
     "start_time": "2024-12-15T05:41:14.302321",
     "status": "completed"
    },
    "tags": []
   },
   "outputs": [],
   "source": [
    "#import basic libraries\n",
    "import numpy as np \n",
    "import pandas as pd \n",
    "import matplotlib.pyplot as plt, matplotlib.gridspec as gridspe\n",
    "import seaborn as sns\n",
    "import polars as pl\n",
    "\n",
    "import os\n",
    "from multiprocessing import Pool, cpu_count\n",
    "import torch\n",
    "import torch.nn as nn\n",
    "import torch.optim as optim\n",
    "from sklearn.preprocessing import StandardScaler\n",
    "\n",
    "import lightgbm as lgb\n",
    "import xgboost as xgb\n",
    "import catboost as cb\n",
    "from sklearn.model_selection import StratifiedKFold\n",
    "from sklearn.ensemble import VotingRegressor\n",
    "from sklearn.ensemble import RandomForestRegressor, HistGradientBoostingRegressor\n",
    "from sklearn.base import clone\n",
    "from sklearn.metrics import cohen_kappa_score\n",
    "from sklearn.model_selection import train_test_split\n",
    "from tqdm import tqdm\n",
    "from scipy.optimize import minimize"
   ]
  },
  {
   "cell_type": "markdown",
   "id": "226e8786",
   "metadata": {
    "papermill": {
     "duration": 0.006687,
     "end_time": "2024-12-15T05:41:22.425456",
     "exception": false,
     "start_time": "2024-12-15T05:41:22.418769",
     "status": "completed"
    },
    "tags": []
   },
   "source": [
    "# I. Data Exploratory Analysis (EDA) & Data Prepossessing "
   ]
  },
  {
   "cell_type": "markdown",
   "id": "e088fe10",
   "metadata": {
    "papermill": {
     "duration": 0.00667,
     "end_time": "2024-12-15T05:41:22.438920",
     "exception": false,
     "start_time": "2024-12-15T05:41:22.432250",
     "status": "completed"
    },
    "tags": []
   },
   "source": [
    "## 1. Data Loading"
   ]
  },
  {
   "cell_type": "code",
   "execution_count": 2,
   "id": "ba709438",
   "metadata": {
    "_cell_guid": "b1076dfc-b9ad-4769-8c92-a6c4dae69d19",
    "_uuid": "8f2839f25d086af736a60e9eeb907d3b93b6e0e5",
    "execution": {
     "iopub.execute_input": "2024-12-15T05:41:22.454429Z",
     "iopub.status.busy": "2024-12-15T05:41:22.453630Z",
     "iopub.status.idle": "2024-12-15T05:41:22.526555Z",
     "shell.execute_reply": "2024-12-15T05:41:22.525704Z"
    },
    "papermill": {
     "duration": 0.083,
     "end_time": "2024-12-15T05:41:22.528676",
     "exception": false,
     "start_time": "2024-12-15T05:41:22.445676",
     "status": "completed"
    },
    "scrolled": true,
    "tags": []
   },
   "outputs": [],
   "source": [
    "dic = pd.read_csv(\"/kaggle/input/child-mind-institute-problematic-internet-use/data_dictionary.csv\")\n",
    "train_df = pd.read_csv(\"/kaggle/input/child-mind-institute-problematic-internet-use/train.csv\")\n",
    "test_df = pd.read_csv(\"/kaggle/input/child-mind-institute-problematic-internet-use/test.csv\")"
   ]
  },
  {
   "cell_type": "markdown",
   "id": "51468a64",
   "metadata": {
    "papermill": {
     "duration": 0.006708,
     "end_time": "2024-12-15T05:41:22.543023",
     "exception": false,
     "start_time": "2024-12-15T05:41:22.536315",
     "status": "completed"
    },
    "tags": []
   },
   "source": [
    "##  2. Data Preview\n",
    "\n",
    "### 2.1. Preview Data_dictionary\n",
    "The HBN dataset has total 11 instruments. Each one are presented by some fields calculated below. The total number of fields collected is 80 (excluding id)."
   ]
  },
  {
   "cell_type": "code",
   "execution_count": 3,
   "id": "4aafefcd",
   "metadata": {
    "collapsed": true,
    "execution": {
     "iopub.execute_input": "2024-12-15T05:41:22.557653Z",
     "iopub.status.busy": "2024-12-15T05:41:22.557381Z",
     "iopub.status.idle": "2024-12-15T05:41:22.572289Z",
     "shell.execute_reply": "2024-12-15T05:41:22.571514Z"
    },
    "jupyter": {
     "outputs_hidden": true,
     "source_hidden": true
    },
    "papermill": {
     "duration": 0.024121,
     "end_time": "2024-12-15T05:41:22.573924",
     "exception": false,
     "start_time": "2024-12-15T05:41:22.549803",
     "status": "completed"
    },
    "tags": []
   },
   "outputs": [
    {
     "data": {
      "text/html": [
       "<div>\n",
       "<style scoped>\n",
       "    .dataframe tbody tr th:only-of-type {\n",
       "        vertical-align: middle;\n",
       "    }\n",
       "\n",
       "    .dataframe tbody tr th {\n",
       "        vertical-align: top;\n",
       "    }\n",
       "\n",
       "    .dataframe thead th {\n",
       "        text-align: right;\n",
       "    }\n",
       "</style>\n",
       "<table border=\"1\" class=\"dataframe\">\n",
       "  <thead>\n",
       "    <tr style=\"text-align: right;\">\n",
       "      <th></th>\n",
       "      <th>Instrument</th>\n",
       "      <th>Field</th>\n",
       "      <th>Description</th>\n",
       "      <th>Type</th>\n",
       "      <th>Values</th>\n",
       "      <th>Value Labels</th>\n",
       "    </tr>\n",
       "  </thead>\n",
       "  <tbody>\n",
       "    <tr>\n",
       "      <th>0</th>\n",
       "      <td>Identifier</td>\n",
       "      <td>id</td>\n",
       "      <td>Participant's ID</td>\n",
       "      <td>str</td>\n",
       "      <td>NaN</td>\n",
       "      <td>NaN</td>\n",
       "    </tr>\n",
       "    <tr>\n",
       "      <th>1</th>\n",
       "      <td>Demographics</td>\n",
       "      <td>Basic_Demos-Enroll_Season</td>\n",
       "      <td>Season of enrollment</td>\n",
       "      <td>str</td>\n",
       "      <td>Spring, Summer, Fall, Winter</td>\n",
       "      <td>NaN</td>\n",
       "    </tr>\n",
       "    <tr>\n",
       "      <th>2</th>\n",
       "      <td>Demographics</td>\n",
       "      <td>Basic_Demos-Age</td>\n",
       "      <td>Age of participant</td>\n",
       "      <td>float</td>\n",
       "      <td>NaN</td>\n",
       "      <td>NaN</td>\n",
       "    </tr>\n",
       "    <tr>\n",
       "      <th>3</th>\n",
       "      <td>Demographics</td>\n",
       "      <td>Basic_Demos-Sex</td>\n",
       "      <td>Sex of participant</td>\n",
       "      <td>categorical int</td>\n",
       "      <td>0,1</td>\n",
       "      <td>0=Male, 1=Female</td>\n",
       "    </tr>\n",
       "    <tr>\n",
       "      <th>4</th>\n",
       "      <td>Children's Global Assessment Scale</td>\n",
       "      <td>CGAS-Season</td>\n",
       "      <td>Season of participation</td>\n",
       "      <td>str</td>\n",
       "      <td>Spring, Summer, Fall, Winter</td>\n",
       "      <td>NaN</td>\n",
       "    </tr>\n",
       "  </tbody>\n",
       "</table>\n",
       "</div>"
      ],
      "text/plain": [
       "                           Instrument                      Field  \\\n",
       "0                          Identifier                         id   \n",
       "1                        Demographics  Basic_Demos-Enroll_Season   \n",
       "2                        Demographics            Basic_Demos-Age   \n",
       "3                        Demographics            Basic_Demos-Sex   \n",
       "4  Children's Global Assessment Scale                CGAS-Season   \n",
       "\n",
       "               Description             Type                        Values  \\\n",
       "0         Participant's ID              str                           NaN   \n",
       "1     Season of enrollment              str  Spring, Summer, Fall, Winter   \n",
       "2       Age of participant            float                           NaN   \n",
       "3       Sex of participant  categorical int                           0,1   \n",
       "4  Season of participation              str  Spring, Summer, Fall, Winter   \n",
       "\n",
       "       Value Labels  \n",
       "0               NaN  \n",
       "1               NaN  \n",
       "2               NaN  \n",
       "3  0=Male, 1=Female  \n",
       "4               NaN  "
      ]
     },
     "execution_count": 3,
     "metadata": {},
     "output_type": "execute_result"
    }
   ],
   "source": [
    "# Preview data_dictionary\n",
    "pd.set_option('display.max_columns', None)  \n",
    "pd.set_option('display.max_colwidth', None) \n",
    "dic.head()"
   ]
  },
  {
   "cell_type": "code",
   "execution_count": 4,
   "id": "6c8ff1fc",
   "metadata": {
    "execution": {
     "iopub.execute_input": "2024-12-15T05:41:22.589164Z",
     "iopub.status.busy": "2024-12-15T05:41:22.588891Z",
     "iopub.status.idle": "2024-12-15T05:41:22.592398Z",
     "shell.execute_reply": "2024-12-15T05:41:22.591611Z"
    },
    "papermill": {
     "duration": 0.012756,
     "end_time": "2024-12-15T05:41:22.593923",
     "exception": false,
     "start_time": "2024-12-15T05:41:22.581167",
     "status": "completed"
    },
    "tags": []
   },
   "outputs": [],
   "source": [
    "# Summarise data_dictionary\n",
    "# grouped = dic.groupby('Instrument', sort=False)['Field'].apply(lambda x: ', '.join(x)).reset_index()\n",
    "# grouped['NumFields'] = dic.groupby('Instrument', sort=False).size().values\n",
    "# grouped = grouped.style.set_properties(**{'text-align': 'left'}, subset=['Instrument', 'Field', 'NumFields']) \\\n",
    "    # .set_table_styles([{'selector': 'th', 'props': [('text-align', 'left')]}])\n",
    "\n",
    "# grouped"
   ]
  },
  {
   "cell_type": "markdown",
   "id": "ac781dbf",
   "metadata": {
    "papermill": {
     "duration": 0.006933,
     "end_time": "2024-12-15T05:41:22.608166",
     "exception": false,
     "start_time": "2024-12-15T05:41:22.601233",
     "status": "completed"
    },
    "tags": []
   },
   "source": [
    "### 2.2. Preview Train & Test data"
   ]
  },
  {
   "cell_type": "code",
   "execution_count": 5,
   "id": "bcb0a96c",
   "metadata": {
    "collapsed": true,
    "execution": {
     "iopub.execute_input": "2024-12-15T05:41:22.623771Z",
     "iopub.status.busy": "2024-12-15T05:41:22.623517Z",
     "iopub.status.idle": "2024-12-15T05:41:22.648816Z",
     "shell.execute_reply": "2024-12-15T05:41:22.647815Z"
    },
    "jupyter": {
     "outputs_hidden": true
    },
    "papermill": {
     "duration": 0.035255,
     "end_time": "2024-12-15T05:41:22.650648",
     "exception": false,
     "start_time": "2024-12-15T05:41:22.615393",
     "status": "completed"
    },
    "tags": []
   },
   "outputs": [
    {
     "name": "stdout",
     "output_type": "stream",
     "text": [
      "<class 'pandas.core.frame.DataFrame'>\n",
      "RangeIndex: 3960 entries, 0 to 3959\n",
      "Data columns (total 82 columns):\n",
      " #   Column                                  Non-Null Count  Dtype  \n",
      "---  ------                                  --------------  -----  \n",
      " 0   id                                      3960 non-null   object \n",
      " 1   Basic_Demos-Enroll_Season               3960 non-null   object \n",
      " 2   Basic_Demos-Age                         3960 non-null   int64  \n",
      " 3   Basic_Demos-Sex                         3960 non-null   int64  \n",
      " 4   CGAS-Season                             2555 non-null   object \n",
      " 5   CGAS-CGAS_Score                         2421 non-null   float64\n",
      " 6   Physical-Season                         3310 non-null   object \n",
      " 7   Physical-BMI                            3022 non-null   float64\n",
      " 8   Physical-Height                         3027 non-null   float64\n",
      " 9   Physical-Weight                         3076 non-null   float64\n",
      " 10  Physical-Waist_Circumference            898 non-null    float64\n",
      " 11  Physical-Diastolic_BP                   2954 non-null   float64\n",
      " 12  Physical-HeartRate                      2967 non-null   float64\n",
      " 13  Physical-Systolic_BP                    2954 non-null   float64\n",
      " 14  Fitness_Endurance-Season                1308 non-null   object \n",
      " 15  Fitness_Endurance-Max_Stage             743 non-null    float64\n",
      " 16  Fitness_Endurance-Time_Mins             740 non-null    float64\n",
      " 17  Fitness_Endurance-Time_Sec              740 non-null    float64\n",
      " 18  FGC-Season                              3346 non-null   object \n",
      " 19  FGC-FGC_CU                              2322 non-null   float64\n",
      " 20  FGC-FGC_CU_Zone                         2282 non-null   float64\n",
      " 21  FGC-FGC_GSND                            1074 non-null   float64\n",
      " 22  FGC-FGC_GSND_Zone                       1062 non-null   float64\n",
      " 23  FGC-FGC_GSD                             1074 non-null   float64\n",
      " 24  FGC-FGC_GSD_Zone                        1063 non-null   float64\n",
      " 25  FGC-FGC_PU                              2310 non-null   float64\n",
      " 26  FGC-FGC_PU_Zone                         2271 non-null   float64\n",
      " 27  FGC-FGC_SRL                             2305 non-null   float64\n",
      " 28  FGC-FGC_SRL_Zone                        2267 non-null   float64\n",
      " 29  FGC-FGC_SRR                             2307 non-null   float64\n",
      " 30  FGC-FGC_SRR_Zone                        2269 non-null   float64\n",
      " 31  FGC-FGC_TL                              2324 non-null   float64\n",
      " 32  FGC-FGC_TL_Zone                         2285 non-null   float64\n",
      " 33  BIA-Season                              2145 non-null   object \n",
      " 34  BIA-BIA_Activity_Level_num              1991 non-null   float64\n",
      " 35  BIA-BIA_BMC                             1991 non-null   float64\n",
      " 36  BIA-BIA_BMI                             1991 non-null   float64\n",
      " 37  BIA-BIA_BMR                             1991 non-null   float64\n",
      " 38  BIA-BIA_DEE                             1991 non-null   float64\n",
      " 39  BIA-BIA_ECW                             1991 non-null   float64\n",
      " 40  BIA-BIA_FFM                             1991 non-null   float64\n",
      " 41  BIA-BIA_FFMI                            1991 non-null   float64\n",
      " 42  BIA-BIA_FMI                             1991 non-null   float64\n",
      " 43  BIA-BIA_Fat                             1991 non-null   float64\n",
      " 44  BIA-BIA_Frame_num                       1991 non-null   float64\n",
      " 45  BIA-BIA_ICW                             1991 non-null   float64\n",
      " 46  BIA-BIA_LDM                             1991 non-null   float64\n",
      " 47  BIA-BIA_LST                             1991 non-null   float64\n",
      " 48  BIA-BIA_SMM                             1991 non-null   float64\n",
      " 49  BIA-BIA_TBW                             1991 non-null   float64\n",
      " 50  PAQ_A-Season                            475 non-null    object \n",
      " 51  PAQ_A-PAQ_A_Total                       475 non-null    float64\n",
      " 52  PAQ_C-Season                            1721 non-null   object \n",
      " 53  PAQ_C-PAQ_C_Total                       1721 non-null   float64\n",
      " 54  PCIAT-Season                            2736 non-null   object \n",
      " 55  PCIAT-PCIAT_01                          2733 non-null   float64\n",
      " 56  PCIAT-PCIAT_02                          2734 non-null   float64\n",
      " 57  PCIAT-PCIAT_03                          2731 non-null   float64\n",
      " 58  PCIAT-PCIAT_04                          2731 non-null   float64\n",
      " 59  PCIAT-PCIAT_05                          2729 non-null   float64\n",
      " 60  PCIAT-PCIAT_06                          2732 non-null   float64\n",
      " 61  PCIAT-PCIAT_07                          2729 non-null   float64\n",
      " 62  PCIAT-PCIAT_08                          2730 non-null   float64\n",
      " 63  PCIAT-PCIAT_09                          2730 non-null   float64\n",
      " 64  PCIAT-PCIAT_10                          2733 non-null   float64\n",
      " 65  PCIAT-PCIAT_11                          2734 non-null   float64\n",
      " 66  PCIAT-PCIAT_12                          2731 non-null   float64\n",
      " 67  PCIAT-PCIAT_13                          2729 non-null   float64\n",
      " 68  PCIAT-PCIAT_14                          2732 non-null   float64\n",
      " 69  PCIAT-PCIAT_15                          2730 non-null   float64\n",
      " 70  PCIAT-PCIAT_16                          2728 non-null   float64\n",
      " 71  PCIAT-PCIAT_17                          2725 non-null   float64\n",
      " 72  PCIAT-PCIAT_18                          2728 non-null   float64\n",
      " 73  PCIAT-PCIAT_19                          2730 non-null   float64\n",
      " 74  PCIAT-PCIAT_20                          2733 non-null   float64\n",
      " 75  PCIAT-PCIAT_Total                       2736 non-null   float64\n",
      " 76  SDS-Season                              2618 non-null   object \n",
      " 77  SDS-SDS_Total_Raw                       2609 non-null   float64\n",
      " 78  SDS-SDS_Total_T                         2606 non-null   float64\n",
      " 79  PreInt_EduHx-Season                     3540 non-null   object \n",
      " 80  PreInt_EduHx-computerinternet_hoursday  3301 non-null   float64\n",
      " 81  sii                                     2736 non-null   float64\n",
      "dtypes: float64(68), int64(2), object(12)\n",
      "memory usage: 2.5+ MB\n"
     ]
    }
   ],
   "source": [
    "# training data\n",
    "train_df.info()"
   ]
  },
  {
   "cell_type": "markdown",
   "id": "2fc4492d",
   "metadata": {
    "papermill": {
     "duration": 0.006983,
     "end_time": "2024-12-15T05:41:22.664973",
     "exception": false,
     "start_time": "2024-12-15T05:41:22.657990",
     "status": "completed"
    },
    "tags": []
   },
   "source": [
    "2736 non-null in sii => \n",
    "sii missing is about 30% (accepted to remove), so only use part with sii valid to train the supervised model for accurately."
   ]
  },
  {
   "cell_type": "code",
   "execution_count": 6,
   "id": "8bc60475",
   "metadata": {
    "collapsed": true,
    "execution": {
     "iopub.execute_input": "2024-12-15T05:41:22.680151Z",
     "iopub.status.busy": "2024-12-15T05:41:22.679908Z",
     "iopub.status.idle": "2024-12-15T05:41:22.696923Z",
     "shell.execute_reply": "2024-12-15T05:41:22.696067Z"
    },
    "jupyter": {
     "outputs_hidden": true
    },
    "papermill": {
     "duration": 0.026448,
     "end_time": "2024-12-15T05:41:22.698569",
     "exception": false,
     "start_time": "2024-12-15T05:41:22.672121",
     "status": "completed"
    },
    "tags": []
   },
   "outputs": [
    {
     "name": "stdout",
     "output_type": "stream",
     "text": [
      "<class 'pandas.core.frame.DataFrame'>\n",
      "Index: 2736 entries, 0 to 3958\n",
      "Data columns (total 82 columns):\n",
      " #   Column                                  Non-Null Count  Dtype  \n",
      "---  ------                                  --------------  -----  \n",
      " 0   id                                      2736 non-null   object \n",
      " 1   Basic_Demos-Enroll_Season               2736 non-null   object \n",
      " 2   Basic_Demos-Age                         2736 non-null   int64  \n",
      " 3   Basic_Demos-Sex                         2736 non-null   int64  \n",
      " 4   CGAS-Season                             2342 non-null   object \n",
      " 5   CGAS-CGAS_Score                         2342 non-null   float64\n",
      " 6   Physical-Season                         2595 non-null   object \n",
      " 7   Physical-BMI                            2527 non-null   float64\n",
      " 8   Physical-Height                         2530 non-null   float64\n",
      " 9   Physical-Weight                         2572 non-null   float64\n",
      " 10  Physical-Waist_Circumference            483 non-null    float64\n",
      " 11  Physical-Diastolic_BP                   2478 non-null   float64\n",
      " 12  Physical-HeartRate                      2486 non-null   float64\n",
      " 13  Physical-Systolic_BP                    2478 non-null   float64\n",
      " 14  Fitness_Endurance-Season                1260 non-null   object \n",
      " 15  Fitness_Endurance-Max_Stage             731 non-null    float64\n",
      " 16  Fitness_Endurance-Time_Mins             728 non-null    float64\n",
      " 17  Fitness_Endurance-Time_Sec              728 non-null    float64\n",
      " 18  FGC-Season                              2647 non-null   object \n",
      " 19  FGC-FGC_CU                              1919 non-null   float64\n",
      " 20  FGC-FGC_CU_Zone                         1884 non-null   float64\n",
      " 21  FGC-FGC_GSND                            872 non-null    float64\n",
      " 22  FGC-FGC_GSND_Zone                       864 non-null    float64\n",
      " 23  FGC-FGC_GSD                             871 non-null    float64\n",
      " 24  FGC-FGC_GSD_Zone                        864 non-null    float64\n",
      " 25  FGC-FGC_PU                              1909 non-null   float64\n",
      " 26  FGC-FGC_PU_Zone                         1875 non-null   float64\n",
      " 27  FGC-FGC_SRL                             1911 non-null   float64\n",
      " 28  FGC-FGC_SRL_Zone                        1877 non-null   float64\n",
      " 29  FGC-FGC_SRR                             1913 non-null   float64\n",
      " 30  FGC-FGC_SRR_Zone                        1879 non-null   float64\n",
      " 31  FGC-FGC_TL                              1919 non-null   float64\n",
      " 32  FGC-FGC_TL_Zone                         1885 non-null   float64\n",
      " 33  BIA-Season                              1844 non-null   object \n",
      " 34  BIA-BIA_Activity_Level_num              1813 non-null   float64\n",
      " 35  BIA-BIA_BMC                             1813 non-null   float64\n",
      " 36  BIA-BIA_BMI                             1813 non-null   float64\n",
      " 37  BIA-BIA_BMR                             1813 non-null   float64\n",
      " 38  BIA-BIA_DEE                             1813 non-null   float64\n",
      " 39  BIA-BIA_ECW                             1813 non-null   float64\n",
      " 40  BIA-BIA_FFM                             1813 non-null   float64\n",
      " 41  BIA-BIA_FFMI                            1813 non-null   float64\n",
      " 42  BIA-BIA_FMI                             1813 non-null   float64\n",
      " 43  BIA-BIA_Fat                             1813 non-null   float64\n",
      " 44  BIA-BIA_Frame_num                       1813 non-null   float64\n",
      " 45  BIA-BIA_ICW                             1813 non-null   float64\n",
      " 46  BIA-BIA_LDM                             1813 non-null   float64\n",
      " 47  BIA-BIA_LST                             1813 non-null   float64\n",
      " 48  BIA-BIA_SMM                             1813 non-null   float64\n",
      " 49  BIA-BIA_TBW                             1813 non-null   float64\n",
      " 50  PAQ_A-Season                            363 non-null    object \n",
      " 51  PAQ_A-PAQ_A_Total                       363 non-null    float64\n",
      " 52  PAQ_C-Season                            1440 non-null   object \n",
      " 53  PAQ_C-PAQ_C_Total                       1440 non-null   float64\n",
      " 54  PCIAT-Season                            2736 non-null   object \n",
      " 55  PCIAT-PCIAT_01                          2733 non-null   float64\n",
      " 56  PCIAT-PCIAT_02                          2734 non-null   float64\n",
      " 57  PCIAT-PCIAT_03                          2731 non-null   float64\n",
      " 58  PCIAT-PCIAT_04                          2731 non-null   float64\n",
      " 59  PCIAT-PCIAT_05                          2729 non-null   float64\n",
      " 60  PCIAT-PCIAT_06                          2732 non-null   float64\n",
      " 61  PCIAT-PCIAT_07                          2729 non-null   float64\n",
      " 62  PCIAT-PCIAT_08                          2730 non-null   float64\n",
      " 63  PCIAT-PCIAT_09                          2730 non-null   float64\n",
      " 64  PCIAT-PCIAT_10                          2733 non-null   float64\n",
      " 65  PCIAT-PCIAT_11                          2734 non-null   float64\n",
      " 66  PCIAT-PCIAT_12                          2731 non-null   float64\n",
      " 67  PCIAT-PCIAT_13                          2729 non-null   float64\n",
      " 68  PCIAT-PCIAT_14                          2732 non-null   float64\n",
      " 69  PCIAT-PCIAT_15                          2730 non-null   float64\n",
      " 70  PCIAT-PCIAT_16                          2728 non-null   float64\n",
      " 71  PCIAT-PCIAT_17                          2725 non-null   float64\n",
      " 72  PCIAT-PCIAT_18                          2728 non-null   float64\n",
      " 73  PCIAT-PCIAT_19                          2730 non-null   float64\n",
      " 74  PCIAT-PCIAT_20                          2733 non-null   float64\n",
      " 75  PCIAT-PCIAT_Total                       2736 non-null   float64\n",
      " 76  SDS-Season                              2527 non-null   object \n",
      " 77  SDS-SDS_Total_Raw                       2527 non-null   float64\n",
      " 78  SDS-SDS_Total_T                         2525 non-null   float64\n",
      " 79  PreInt_EduHx-Season                     2719 non-null   object \n",
      " 80  PreInt_EduHx-computerinternet_hoursday  2654 non-null   float64\n",
      " 81  sii                                     2736 non-null   float64\n",
      "dtypes: float64(68), int64(2), object(12)\n",
      "memory usage: 1.7+ MB\n"
     ]
    }
   ],
   "source": [
    "usable_train_df = train_df.dropna(subset='sii')\n",
    "usable_train_df.info()"
   ]
  },
  {
   "cell_type": "code",
   "execution_count": 7,
   "id": "12c3c962",
   "metadata": {
    "_cell_guid": "b1076dfc-b9ad-4769-8c92-a6c4dae69d19",
    "_uuid": "8f2839f25d086af736a60e9eeb907d3b93b6e0e5",
    "execution": {
     "iopub.execute_input": "2024-12-15T05:41:22.714033Z",
     "iopub.status.busy": "2024-12-15T05:41:22.713787Z",
     "iopub.status.idle": "2024-12-15T05:41:23.638821Z",
     "shell.execute_reply": "2024-12-15T05:41:23.637947Z"
    },
    "papermill": {
     "duration": 0.935377,
     "end_time": "2024-12-15T05:41:23.641204",
     "exception": false,
     "start_time": "2024-12-15T05:41:22.705827",
     "status": "completed"
    },
    "scrolled": true,
    "tags": []
   },
   "outputs": [
    {
     "data": {
      "image/png": "[encoded data removed]",
      "text/plain": [
       "<Figure size 2400x600 with 1 Axes>"
      ]
     },
     "metadata": {},
     "output_type": "display_data"
    }
   ],
   "source": [
    "missing_percentage = (usable_train_df.isnull().sum() / len(usable_train_df)) * 100 # calculate % missing data\n",
    "\n",
    "missing_percentage.sort_values(ascending=False).plot(kind='bar', color='#A3C8FF', figsize=(24, 6))\n",
    "plt.title('Percentage of Missing Data per Column in Training data')\n",
    "plt.ylabel('Percentage (%)')\n",
    "plt.xlabel('Columns');"
   ]
  },
  {
   "cell_type": "code",
   "execution_count": 8,
   "id": "a09884de",
   "metadata": {
    "collapsed": true,
    "execution": {
     "iopub.execute_input": "2024-12-15T05:41:23.661983Z",
     "iopub.status.busy": "2024-12-15T05:41:23.661660Z",
     "iopub.status.idle": "2024-12-15T05:41:23.673650Z",
     "shell.execute_reply": "2024-12-15T05:41:23.672359Z"
    },
    "jupyter": {
     "outputs_hidden": true
    },
    "papermill": {
     "duration": 0.023918,
     "end_time": "2024-12-15T05:41:23.675195",
     "exception": false,
     "start_time": "2024-12-15T05:41:23.651277",
     "status": "completed"
    },
    "tags": []
   },
   "outputs": [
    {
     "name": "stdout",
     "output_type": "stream",
     "text": [
      "<class 'pandas.core.frame.DataFrame'>\n",
      "RangeIndex: 20 entries, 0 to 19\n",
      "Data columns (total 59 columns):\n",
      " #   Column                                  Non-Null Count  Dtype  \n",
      "---  ------                                  --------------  -----  \n",
      " 0   id                                      20 non-null     object \n",
      " 1   Basic_Demos-Enroll_Season               20 non-null     object \n",
      " 2   Basic_Demos-Age                         20 non-null     int64  \n",
      " 3   Basic_Demos-Sex                         20 non-null     int64  \n",
      " 4   CGAS-Season                             10 non-null     object \n",
      " 5   CGAS-CGAS_Score                         8 non-null      float64\n",
      " 6   Physical-Season                         14 non-null     object \n",
      " 7   Physical-BMI                            13 non-null     float64\n",
      " 8   Physical-Height                         13 non-null     float64\n",
      " 9   Physical-Weight                         13 non-null     float64\n",
      " 10  Physical-Waist_Circumference            5 non-null      float64\n",
      " 11  Physical-Diastolic_BP                   11 non-null     float64\n",
      " 12  Physical-HeartRate                      12 non-null     float64\n",
      " 13  Physical-Systolic_BP                    11 non-null     float64\n",
      " 14  Fitness_Endurance-Season                4 non-null      object \n",
      " 15  Fitness_Endurance-Max_Stage             3 non-null      float64\n",
      " 16  Fitness_Endurance-Time_Mins             3 non-null      float64\n",
      " 17  Fitness_Endurance-Time_Sec              3 non-null      float64\n",
      " 18  FGC-Season                              17 non-null     object \n",
      " 19  FGC-FGC_CU                              13 non-null     float64\n",
      " 20  FGC-FGC_CU_Zone                         13 non-null     float64\n",
      " 21  FGC-FGC_GSND                            5 non-null      float64\n",
      " 22  FGC-FGC_GSND_Zone                       5 non-null      float64\n",
      " 23  FGC-FGC_GSD                             5 non-null      float64\n",
      " 24  FGC-FGC_GSD_Zone                        5 non-null      float64\n",
      " 25  FGC-FGC_PU                              13 non-null     float64\n",
      " 26  FGC-FGC_PU_Zone                         13 non-null     float64\n",
      " 27  FGC-FGC_SRL                             13 non-null     float64\n",
      " 28  FGC-FGC_SRL_Zone                        13 non-null     float64\n",
      " 29  FGC-FGC_SRR                             13 non-null     float64\n",
      " 30  FGC-FGC_SRR_Zone                        13 non-null     float64\n",
      " 31  FGC-FGC_TL                              13 non-null     float64\n",
      " 32  FGC-FGC_TL_Zone                         13 non-null     float64\n",
      " 33  BIA-Season                              8 non-null      object \n",
      " 34  BIA-BIA_Activity_Level_num              8 non-null      float64\n",
      " 35  BIA-BIA_BMC                             8 non-null      float64\n",
      " 36  BIA-BIA_BMI                             8 non-null      float64\n",
      " 37  BIA-BIA_BMR                             8 non-null      float64\n",
      " 38  BIA-BIA_DEE                             8 non-null      float64\n",
      " 39  BIA-BIA_ECW                             8 non-null      float64\n",
      " 40  BIA-BIA_FFM                             8 non-null      float64\n",
      " 41  BIA-BIA_FFMI                            8 non-null      float64\n",
      " 42  BIA-BIA_FMI                             8 non-null      float64\n",
      " 43  BIA-BIA_Fat                             8 non-null      float64\n",
      " 44  BIA-BIA_Frame_num                       8 non-null      float64\n",
      " 45  BIA-BIA_ICW                             8 non-null      float64\n",
      " 46  BIA-BIA_LDM                             8 non-null      float64\n",
      " 47  BIA-BIA_LST                             8 non-null      float64\n",
      " 48  BIA-BIA_SMM                             8 non-null      float64\n",
      " 49  BIA-BIA_TBW                             8 non-null      float64\n",
      " 50  PAQ_A-Season                            1 non-null      object \n",
      " 51  PAQ_A-PAQ_A_Total                       1 non-null      float64\n",
      " 52  PAQ_C-Season                            9 non-null      object \n",
      " 53  PAQ_C-PAQ_C_Total                       9 non-null      float64\n",
      " 54  SDS-Season                              10 non-null     object \n",
      " 55  SDS-SDS_Total_Raw                       10 non-null     float64\n",
      " 56  SDS-SDS_Total_T                         10 non-null     float64\n",
      " 57  PreInt_EduHx-Season                     18 non-null     object \n",
      " 58  PreInt_EduHx-computerinternet_hoursday  16 non-null     float64\n",
      "dtypes: float64(46), int64(2), object(11)\n",
      "memory usage: 9.3+ KB\n"
     ]
    }
   ],
   "source": [
    "#Testing data\n",
    "test_df.info()\n",
    "# 58 fields measured (excluding id) "
   ]
  },
  {
   "cell_type": "code",
   "execution_count": 9,
   "id": "4119cf78",
   "metadata": {
    "execution": {
     "iopub.execute_input": "2024-12-15T05:41:23.694873Z",
     "iopub.status.busy": "2024-12-15T05:41:23.694591Z",
     "iopub.status.idle": "2024-12-15T05:41:23.698128Z",
     "shell.execute_reply": "2024-12-15T05:41:23.697480Z"
    },
    "papermill": {
     "duration": 0.015118,
     "end_time": "2024-12-15T05:41:23.699572",
     "exception": false,
     "start_time": "2024-12-15T05:41:23.684454",
     "status": "completed"
    },
    "tags": []
   },
   "outputs": [],
   "source": [
    "# missing_percentage_test = (test_df.isnull().sum() / len(test_df)) * 100 # calculate % missing data\n",
    "\n",
    "# missing_percentage_test.sort_values(ascending=False).plot(kind='bar', color='orange', figsize=(24, 6))\n",
    "# plt.title('Percentage of Missing Data per Column in Testing data')\n",
    "# plt.ylabel('Percentage (%)')\n",
    "# plt.xlabel('Testing data');"
   ]
  },
  {
   "cell_type": "code",
   "execution_count": 10,
   "id": "9c721257",
   "metadata": {
    "execution": {
     "iopub.execute_input": "2024-12-15T05:41:23.719166Z",
     "iopub.status.busy": "2024-12-15T05:41:23.718907Z",
     "iopub.status.idle": "2024-12-15T05:41:23.723145Z",
     "shell.execute_reply": "2024-12-15T05:41:23.722384Z"
    },
    "papermill": {
     "duration": 0.015786,
     "end_time": "2024-12-15T05:41:23.724696",
     "exception": false,
     "start_time": "2024-12-15T05:41:23.708910",
     "status": "completed"
    },
    "tags": []
   },
   "outputs": [
    {
     "name": "stdout",
     "output_type": "stream",
     "text": [
      "['PCIAT-Season', 'PCIAT-PCIAT_01', 'PCIAT-PCIAT_02', 'PCIAT-PCIAT_03', 'PCIAT-PCIAT_04', 'PCIAT-PCIAT_05', 'PCIAT-PCIAT_06', 'PCIAT-PCIAT_07', 'PCIAT-PCIAT_08', 'PCIAT-PCIAT_09', 'PCIAT-PCIAT_10', 'PCIAT-PCIAT_11', 'PCIAT-PCIAT_12', 'PCIAT-PCIAT_13', 'PCIAT-PCIAT_14', 'PCIAT-PCIAT_15', 'PCIAT-PCIAT_16', 'PCIAT-PCIAT_17', 'PCIAT-PCIAT_18', 'PCIAT-PCIAT_19', 'PCIAT-PCIAT_20', 'PCIAT-PCIAT_Total', 'sii']\n"
     ]
    }
   ],
   "source": [
    "# find the difference between 2 files\n",
    "print([f for f in train_df.columns if f not in test_df.columns])\n",
    "# columns_train = set(usable_train_df.columns)\n",
    "# columns_test = set(test_df.columns)\n",
    "# difference = sorted(list(columns_train - columns_test)) #Find the difference columns in 2 data files\n",
    "# print(difference) # 23"
   ]
  },
  {
   "cell_type": "markdown",
   "id": "4068fc62",
   "metadata": {
    "papermill": {
     "duration": 0.009275,
     "end_time": "2024-12-15T05:41:23.743457",
     "exception": false,
     "start_time": "2024-12-15T05:41:23.734182",
     "status": "completed"
    },
    "tags": []
   },
   "source": [
    "### 2.3. Features Classification"
   ]
  },
  {
   "cell_type": "code",
   "execution_count": 11,
   "id": "394c5c1b",
   "metadata": {
    "collapsed": true,
    "execution": {
     "iopub.execute_input": "2024-12-15T05:41:23.763519Z",
     "iopub.status.busy": "2024-12-15T05:41:23.763226Z",
     "iopub.status.idle": "2024-12-15T05:41:23.771324Z",
     "shell.execute_reply": "2024-12-15T05:41:23.770574Z"
    },
    "jupyter": {
     "outputs_hidden": true,
     "source_hidden": true
    },
    "papermill": {
     "duration": 0.020527,
     "end_time": "2024-12-15T05:41:23.773388",
     "exception": false,
     "start_time": "2024-12-15T05:41:23.752861",
     "status": "completed"
    },
    "tags": []
   },
   "outputs": [
    {
     "name": "stdout",
     "output_type": "stream",
     "text": [
      "Continuous: 24\n",
      "['Basic_Demos-Age' 'Physical-BMI' 'Physical-Height' 'Physical-Weight'\n",
      " 'FGC-FGC_GSND' 'FGC-FGC_GSD' 'FGC-FGC_SRL' 'FGC-FGC_SRR' 'BIA-BIA_BMC'\n",
      " 'BIA-BIA_BMI' 'BIA-BIA_BMR' 'BIA-BIA_DEE' 'BIA-BIA_ECW' 'BIA-BIA_FFM'\n",
      " 'BIA-BIA_FFMI' 'BIA-BIA_FMI' 'BIA-BIA_Fat' 'BIA-BIA_ICW' 'BIA-BIA_LDM'\n",
      " 'BIA-BIA_LST' 'BIA-BIA_SMM' 'BIA-BIA_TBW' 'PAQ_A-PAQ_A_Total'\n",
      " 'PAQ_C-PAQ_C_Total']\n",
      "\n",
      "\n",
      "Discrete: 14\n",
      "['CGAS-CGAS_Score' 'Physical-Waist_Circumference' 'Physical-Diastolic_BP'\n",
      " 'Physical-HeartRate' 'Physical-Systolic_BP' 'Fitness_Endurance-Max_Stage'\n",
      " 'Fitness_Endurance-Time_Mins' 'Fitness_Endurance-Time_Sec' 'FGC-FGC_CU'\n",
      " 'FGC-FGC_PU' 'FGC-FGC_TL' 'PCIAT-PCIAT_Total' 'SDS-SDS_Total_Raw'\n",
      " 'SDS-SDS_Total_T']\n",
      "\n",
      "\n",
      "Categorical: 12\n",
      "['id' 'Basic_Demos-Enroll_Season' 'CGAS-Season' 'Physical-Season'\n",
      " 'Fitness_Endurance-Season' 'FGC-Season' 'BIA-Season' 'PAQ_A-Season'\n",
      " 'PAQ_C-Season' 'PCIAT-Season' 'SDS-Season' 'PreInt_EduHx-Season']\n",
      "\n",
      "\n",
      "Categorical Int: 31\n",
      "['Basic_Demos-Sex' 'FGC-FGC_CU_Zone' 'FGC-FGC_GSND_Zone'\n",
      " 'FGC-FGC_GSD_Zone' 'FGC-FGC_PU_Zone' 'FGC-FGC_SRL_Zone'\n",
      " 'FGC-FGC_SRR_Zone' 'FGC-FGC_TL_Zone' 'BIA-BIA_Activity_Level_num'\n",
      " 'BIA-BIA_Frame_num' 'PCIAT-PCIAT_01' 'PCIAT-PCIAT_02' 'PCIAT-PCIAT_03'\n",
      " 'PCIAT-PCIAT_04' 'PCIAT-PCIAT_05' 'PCIAT-PCIAT_06' 'PCIAT-PCIAT_07'\n",
      " 'PCIAT-PCIAT_08' 'PCIAT-PCIAT_09' 'PCIAT-PCIAT_10' 'PCIAT-PCIAT_11'\n",
      " 'PCIAT-PCIAT_12' 'PCIAT-PCIAT_13' 'PCIAT-PCIAT_14' 'PCIAT-PCIAT_15'\n",
      " 'PCIAT-PCIAT_16' 'PCIAT-PCIAT_17' 'PCIAT-PCIAT_18' 'PCIAT-PCIAT_19'\n",
      " 'PCIAT-PCIAT_20' 'PreInt_EduHx-computerinternet_hoursday']\n",
      "\n",
      "\n"
     ]
    }
   ],
   "source": [
    "# Identify the type of fields (features to train)\n",
    "def print_column_info(column_type, column_name):\n",
    "    cols = dic[dic['Type'] == column_type]['Field']\n",
    "    print(f\"{column_name}: {len(cols)}\")\n",
    "    print(cols.values)\n",
    "    print(\"\\n\")\n",
    "\n",
    "print_column_info('float', 'Continuous')\n",
    "print_column_info('int', 'Discrete')\n",
    "print_column_info('str', 'Categorical')\n",
    "print_column_info('categorical int', 'Categorical Int')\n"
   ]
  },
  {
   "cell_type": "markdown",
   "id": "7642a66e",
   "metadata": {
    "papermill": {
     "duration": 0.009326,
     "end_time": "2024-12-15T05:41:23.792540",
     "exception": false,
     "start_time": "2024-12-15T05:41:23.783214",
     "status": "completed"
    },
    "tags": []
   },
   "source": [
    "### 2.4. Distribution of features"
   ]
  },
  {
   "cell_type": "code",
   "execution_count": 12,
   "id": "e17334ef",
   "metadata": {
    "execution": {
     "iopub.execute_input": "2024-12-15T05:41:23.812871Z",
     "iopub.status.busy": "2024-12-15T05:41:23.812564Z",
     "iopub.status.idle": "2024-12-15T05:41:23.816029Z",
     "shell.execute_reply": "2024-12-15T05:41:23.815295Z"
    },
    "papermill": {
     "duration": 0.015611,
     "end_time": "2024-12-15T05:41:23.817490",
     "exception": false,
     "start_time": "2024-12-15T05:41:23.801879",
     "status": "completed"
    },
    "tags": []
   },
   "outputs": [],
   "source": [
    "# Distribution of numerical features\n",
    "# usable_train_df.describe()"
   ]
  },
  {
   "cell_type": "code",
   "execution_count": 13,
   "id": "178abca0",
   "metadata": {
    "collapsed": true,
    "execution": {
     "iopub.execute_input": "2024-12-15T05:41:23.837417Z",
     "iopub.status.busy": "2024-12-15T05:41:23.837166Z",
     "iopub.status.idle": "2024-12-15T05:41:23.863527Z",
     "shell.execute_reply": "2024-12-15T05:41:23.862716Z"
    },
    "jupyter": {
     "outputs_hidden": true
    },
    "papermill": {
     "duration": 0.038118,
     "end_time": "2024-12-15T05:41:23.865111",
     "exception": false,
     "start_time": "2024-12-15T05:41:23.826993",
     "status": "completed"
    },
    "tags": []
   },
   "outputs": [
    {
     "data": {
      "text/html": [
       "<div>\n",
       "<style scoped>\n",
       "    .dataframe tbody tr th:only-of-type {\n",
       "        vertical-align: middle;\n",
       "    }\n",
       "\n",
       "    .dataframe tbody tr th {\n",
       "        vertical-align: top;\n",
       "    }\n",
       "\n",
       "    .dataframe thead th {\n",
       "        text-align: right;\n",
       "    }\n",
       "</style>\n",
       "<table border=\"1\" class=\"dataframe\">\n",
       "  <thead>\n",
       "    <tr style=\"text-align: right;\">\n",
       "      <th></th>\n",
       "      <th>id</th>\n",
       "      <th>Basic_Demos-Enroll_Season</th>\n",
       "      <th>CGAS-Season</th>\n",
       "      <th>Physical-Season</th>\n",
       "      <th>Fitness_Endurance-Season</th>\n",
       "      <th>FGC-Season</th>\n",
       "      <th>BIA-Season</th>\n",
       "      <th>PAQ_A-Season</th>\n",
       "      <th>PAQ_C-Season</th>\n",
       "      <th>PCIAT-Season</th>\n",
       "      <th>SDS-Season</th>\n",
       "      <th>PreInt_EduHx-Season</th>\n",
       "    </tr>\n",
       "  </thead>\n",
       "  <tbody>\n",
       "    <tr>\n",
       "      <th>count</th>\n",
       "      <td>2736</td>\n",
       "      <td>2736</td>\n",
       "      <td>2342</td>\n",
       "      <td>2595</td>\n",
       "      <td>1260</td>\n",
       "      <td>2647</td>\n",
       "      <td>1844</td>\n",
       "      <td>363</td>\n",
       "      <td>1440</td>\n",
       "      <td>2736</td>\n",
       "      <td>2527</td>\n",
       "      <td>2719</td>\n",
       "    </tr>\n",
       "    <tr>\n",
       "      <th>unique</th>\n",
       "      <td>2736</td>\n",
       "      <td>4</td>\n",
       "      <td>4</td>\n",
       "      <td>4</td>\n",
       "      <td>4</td>\n",
       "      <td>4</td>\n",
       "      <td>4</td>\n",
       "      <td>4</td>\n",
       "      <td>4</td>\n",
       "      <td>4</td>\n",
       "      <td>4</td>\n",
       "      <td>4</td>\n",
       "    </tr>\n",
       "    <tr>\n",
       "      <th>top</th>\n",
       "      <td>ffed1dd5</td>\n",
       "      <td>Spring</td>\n",
       "      <td>Spring</td>\n",
       "      <td>Spring</td>\n",
       "      <td>Spring</td>\n",
       "      <td>Spring</td>\n",
       "      <td>Summer</td>\n",
       "      <td>Winter</td>\n",
       "      <td>Spring</td>\n",
       "      <td>Spring</td>\n",
       "      <td>Spring</td>\n",
       "      <td>Spring</td>\n",
       "    </tr>\n",
       "    <tr>\n",
       "      <th>freq</th>\n",
       "      <td>1</td>\n",
       "      <td>734</td>\n",
       "      <td>665</td>\n",
       "      <td>709</td>\n",
       "      <td>377</td>\n",
       "      <td>771</td>\n",
       "      <td>585</td>\n",
       "      <td>98</td>\n",
       "      <td>405</td>\n",
       "      <td>762</td>\n",
       "      <td>692</td>\n",
       "      <td>728</td>\n",
       "    </tr>\n",
       "  </tbody>\n",
       "</table>\n",
       "</div>"
      ],
      "text/plain": [
       "              id Basic_Demos-Enroll_Season CGAS-Season Physical-Season  \\\n",
       "count       2736                      2736        2342            2595   \n",
       "unique      2736                         4           4               4   \n",
       "top     ffed1dd5                    Spring      Spring          Spring   \n",
       "freq           1                       734         665             709   \n",
       "\n",
       "       Fitness_Endurance-Season FGC-Season BIA-Season PAQ_A-Season  \\\n",
       "count                      1260       2647       1844          363   \n",
       "unique                        4          4          4            4   \n",
       "top                      Spring     Spring     Summer       Winter   \n",
       "freq                        377        771        585           98   \n",
       "\n",
       "       PAQ_C-Season PCIAT-Season SDS-Season PreInt_EduHx-Season  \n",
       "count          1440         2736       2527                2719  \n",
       "unique            4            4          4                   4  \n",
       "top          Spring       Spring     Spring              Spring  \n",
       "freq            405          762        692                 728  "
      ]
     },
     "execution_count": 13,
     "metadata": {},
     "output_type": "execute_result"
    }
   ],
   "source": [
    "#categorical features\n",
    "usable_train_df.select_dtypes(include=[\"object\"]).describe()"
   ]
  },
  {
   "cell_type": "code",
   "execution_count": 14,
   "id": "a65ac9bd",
   "metadata": {
    "execution": {
     "iopub.execute_input": "2024-12-15T05:41:23.885308Z",
     "iopub.status.busy": "2024-12-15T05:41:23.885067Z",
     "iopub.status.idle": "2024-12-15T05:41:24.176323Z",
     "shell.execute_reply": "2024-12-15T05:41:24.175424Z"
    },
    "jupyter": {
     "source_hidden": true
    },
    "papermill": {
     "duration": 0.303163,
     "end_time": "2024-12-15T05:41:24.178048",
     "exception": false,
     "start_time": "2024-12-15T05:41:23.874885",
     "status": "completed"
    },
    "tags": []
   },
   "outputs": [
    {
     "data": {
      "image/png": "[encoded data removed]",
      "text/plain": [
       "<Figure size 640x480 with 1 Axes>"
      ]
     },
     "metadata": {},
     "output_type": "display_data"
    }
   ],
   "source": [
    "# sii distribution → sii is imbalanced, half of it is 0\n",
    "sii_counts = usable_train_df['sii'].value_counts()\n",
    "colors = plt.cm.Blues(np.linspace(0.3, 1, len(sii_counts)))\n",
    "\n",
    "#plt.figure(figsize=(12, 6))\n",
    "sii_counts.plot(kind='bar', color=colors)\n",
    "plt.title('\"sii distribution\"')\n",
    "plt.xlabel('Values')\n",
    "plt.ylabel('Frequency')\n",
    "plt.xticks(rotation=0)\n",
    "legend_labels = ['None', 'Mild', 'Moderate', 'Severe']\n",
    "colors_for_legend = colors\n",
    "plt.legend(handles=[plt.Rectangle((0, 0), 1, 1, color=color) for color in colors_for_legend],\n",
    "           labels=legend_labels, title=\"Categories\", loc='upper left', bbox_to_anchor=(1, 1));"
   ]
  },
  {
   "cell_type": "markdown",
   "id": "87f8774a",
   "metadata": {
    "papermill": {
     "duration": 0.010101,
     "end_time": "2024-12-15T05:41:24.198677",
     "exception": false,
     "start_time": "2024-12-15T05:41:24.188576",
     "status": "completed"
    },
    "tags": []
   },
   "source": [
    "\n",
    "## EDA"
   ]
  },
  {
   "cell_type": "markdown",
   "id": "2cacaca0",
   "metadata": {
    "papermill": {
     "duration": 0.009792,
     "end_time": "2024-12-15T05:41:24.218442",
     "exception": false,
     "start_time": "2024-12-15T05:41:24.208650",
     "status": "completed"
    },
    "tags": []
   },
   "source": [
    "\n",
    "### 2.1. Encode Season columns"
   ]
  },
  {
   "cell_type": "code",
   "execution_count": 15,
   "id": "282667d3",
   "metadata": {
    "execution": {
     "iopub.execute_input": "2024-12-15T05:41:24.240490Z",
     "iopub.status.busy": "2024-12-15T05:41:24.240194Z",
     "iopub.status.idle": "2024-12-15T05:41:24.268763Z",
     "shell.execute_reply": "2024-12-15T05:41:24.267916Z"
    },
    "papermill": {
     "duration": 0.041836,
     "end_time": "2024-12-15T05:41:24.270385",
     "exception": false,
     "start_time": "2024-12-15T05:41:24.228549",
     "status": "completed"
    },
    "tags": []
   },
   "outputs": [],
   "source": [
    "from sklearn.preprocessing import LabelEncoder\n",
    "\n",
    "encoder = LabelEncoder()\n",
    "columns_to_encode = [\n",
    "    'Basic_Demos-Enroll_Season', 'CGAS-Season', 'Physical-Season',\n",
    "    'Fitness_Endurance-Season', 'FGC-Season', 'BIA-Season', 'PAQ_A-Season',\n",
    "    'PAQ_C-Season', 'PCIAT-Season', 'SDS-Season', 'PreInt_EduHx-Season'\n",
    "]\n",
    "\n",
    "for col in columns_to_encode:\n",
    "    # Áp dụng LabelEncoder và giữ lại giá trị NaN\n",
    "    train_df[col] = encoder.fit_transform(train_df[col].astype(str)).astype(int)\n",
    "\n",
    "test_col_to_encode = [col for col in columns_to_encode if col != 'PCIAT-Season']\n",
    "\n",
    "for col in test_col_to_encode:\n",
    "    test_df[col] = encoder.transform(test_df[col].astype(str)).astype(int)\n",
    "\n",
    "usable_train_df = train_df.dropna(subset=['sii'])\n"
   ]
  },
  {
   "cell_type": "code",
   "execution_count": 16,
   "id": "aa0c04b5",
   "metadata": {
    "execution": {
     "iopub.execute_input": "2024-12-15T05:41:24.292701Z",
     "iopub.status.busy": "2024-12-15T05:41:24.291915Z",
     "iopub.status.idle": "2024-12-15T05:41:24.526176Z",
     "shell.execute_reply": "2024-12-15T05:41:24.525159Z"
    },
    "papermill": {
     "duration": 0.24898,
     "end_time": "2024-12-15T05:41:24.529689",
     "exception": false,
     "start_time": "2024-12-15T05:41:24.280709",
     "status": "completed"
    },
    "tags": []
   },
   "outputs": [
    {
     "data": {
      "image/png": "[encoded data removed]",
      "text/plain": [
       "<Figure size 640x480 with 1 Axes>"
      ]
     },
     "metadata": {},
     "output_type": "display_data"
    }
   ],
   "source": [
    "sns.boxplot(x='sii', y='PCIAT-PCIAT_Total', data=usable_train_df)\n",
    "plt.title('Correlation between PCIAT-PCIAT_Total và sii')\n",
    "plt.xlabel('sii')\n",
    "plt.ylabel('PCIAT-PCIAT_Total')\n",
    "y_ticks = np.arange(usable_train_df['PCIAT-PCIAT_Total'].min(), usable_train_df['PCIAT-PCIAT_Total'].max(), 10)\n",
    "plt.yticks(y_ticks);"
   ]
  },
  {
   "cell_type": "markdown",
   "id": "3cf5f67d",
   "metadata": {
    "papermill": {
     "duration": 0.012302,
     "end_time": "2024-12-15T05:41:24.571126",
     "exception": false,
     "start_time": "2024-12-15T05:41:24.558824",
     "status": "completed"
    },
    "tags": []
   },
   "source": [
    "The target ```sii``` is available exactly for those participants for whom we have results of the Parent-Child Internet Addiction Test (PCIAT), and it is a function of the PCIAT total score.\n",
    "* 0-30 Normal (0)\n",
    "* 31-49 Mild (1)\n",
    "* 50-79 Moderate (2)\n",
    "* 80-100 Severe (3)\n",
    "\n",
    "Proof: https://digitalwellnesslab.org/wp-content/uploads/Scoring-Overview.pdf"
   ]
  },
  {
   "cell_type": "code",
   "execution_count": 17,
   "id": "bb8c1f39",
   "metadata": {
    "execution": {
     "iopub.execute_input": "2024-12-15T05:41:24.593257Z",
     "iopub.status.busy": "2024-12-15T05:41:24.592990Z",
     "iopub.status.idle": "2024-12-15T05:41:25.163213Z",
     "shell.execute_reply": "2024-12-15T05:41:25.162327Z"
    },
    "jupyter": {
     "source_hidden": true
    },
    "papermill": {
     "duration": 0.583484,
     "end_time": "2024-12-15T05:41:25.164973",
     "exception": false,
     "start_time": "2024-12-15T05:41:24.581489",
     "status": "completed"
    },
    "tags": []
   },
   "outputs": [
    {
     "name": "stdout",
     "output_type": "stream",
     "text": [
      "Basic_Demos-Age                           0.409559\n",
      "Physical-BMI                              0.240858\n",
      "Physical-Height                           0.420765\n",
      "Physical-Weight                           0.353048\n",
      "FGC-FGC_GSND                              0.146813\n",
      "FGC-FGC_GSD                               0.160472\n",
      "FGC-FGC_SRL                              -0.091221\n",
      "FGC-FGC_SRR                              -0.077836\n",
      "BIA-BIA_BMI                               0.248060\n",
      "BIA-BIA_DEE                               0.053094\n",
      "BIA-BIA_FFMI                              0.109694\n",
      "BIA-BIA_FMI                               0.085863\n",
      "BIA-BIA_ICW                               0.052593\n",
      "BIA-BIA_LST                               0.075623\n",
      "BIA-BIA_SMM                               0.052912\n",
      "CGAS-CGAS_Score                          -0.070542\n",
      "Physical-Waist_Circumference              0.327013\n",
      "Physical-Diastolic_BP                     0.069321\n",
      "Physical-Systolic_BP                      0.147081\n",
      "Fitness_Endurance-Time_Mins              -0.052376\n",
      "FGC-FGC_CU                                0.287494\n",
      "FGC-FGC_PU                                0.196006\n",
      "FGC-FGC_TL                                0.136696\n",
      "SDS-SDS_Total_Raw                         0.234432\n",
      "SDS-SDS_Total_T                           0.237718\n",
      "PreInt_EduHx-computerinternet_hoursday    0.374124\n",
      "Basic_Demos-Sex                          -0.093648\n",
      "FGC-FGC_PU_Zone                           0.056973\n",
      "FGC-FGC_SRL_Zone                         -0.148850\n",
      "FGC-FGC_SRR_Zone                         -0.109682\n",
      "BIA-BIA_Activity_Level_num                0.084548\n",
      "BIA-BIA_Frame_num                         0.193631\n",
      "Fitness_Endurance-Season                  0.145319\n",
      "PAQ_A-Season                             -0.216748\n",
      "PAQ_C-Season                             -0.087737\n",
      "Name: PCIAT-PCIAT_Total, dtype: float64\n"
     ]
    },
    {
     "data": {
      "image/png": "[encoded data removed]",
      "text/plain": [
       "<Figure size 800x600 with 1 Axes>"
      ]
     },
     "metadata": {},
     "output_type": "display_data"
    }
   ],
   "source": [
    "# Check correlation between numerical features and PCIAT Total Scores\n",
    "\n",
    "corr_matrix = usable_train_df[[\n",
    "    'Basic_Demos-Age', 'Physical-BMI', 'Physical-Height', 'Physical-Weight',\n",
    " 'FGC-FGC_GSND' ,'FGC-FGC_GSD', 'FGC-FGC_SRL', 'FGC-FGC_SRR', 'BIA-BIA_BMC',\n",
    " 'BIA-BIA_BMI', 'BIA-BIA_BMR', 'BIA-BIA_DEE' ,'BIA-BIA_ECW', 'BIA-BIA_FFM',\n",
    " 'BIA-BIA_FFMI' ,'BIA-BIA_FMI', 'BIA-BIA_Fat', 'BIA-BIA_ICW' ,'BIA-BIA_LDM',\n",
    " 'BIA-BIA_LST', 'BIA-BIA_SMM', 'BIA-BIA_TBW', 'PAQ_A-PAQ_A_Total',\n",
    " 'PAQ_C-PAQ_C_Total', 'CGAS-CGAS_Score' ,'Physical-Waist_Circumference', 'Physical-Diastolic_BP',\n",
    " 'Physical-HeartRate', 'Physical-Systolic_BP' ,'Fitness_Endurance-Max_Stage',\n",
    " 'Fitness_Endurance-Time_Mins', 'Fitness_Endurance-Time_Sec' ,'FGC-FGC_CU',\n",
    " 'FGC-FGC_PU', 'FGC-FGC_TL' ,'PCIAT-PCIAT_Total', 'SDS-SDS_Total_Raw',\n",
    " 'SDS-SDS_Total_T', 'PreInt_EduHx-computerinternet_hoursday',\n",
    "    \n",
    "    'Basic_Demos-Sex', 'FGC-FGC_CU_Zone' ,'FGC-FGC_GSND_Zone',\n",
    " 'FGC-FGC_GSD_Zone', 'FGC-FGC_PU_Zone' ,'FGC-FGC_SRL_Zone',\n",
    " 'FGC-FGC_SRR_Zone', 'FGC-FGC_TL_Zone', 'BIA-BIA_Activity_Level_num',\n",
    " 'BIA-BIA_Frame_num', \n",
    "    \n",
    "    'Basic_Demos-Enroll_Season', 'CGAS-Season', 'Physical-Season',\n",
    "    'Fitness_Endurance-Season', 'FGC-Season', 'BIA-Season', 'PAQ_A-Season',\n",
    "    'PAQ_C-Season', 'PCIAT-Season', 'SDS-Season', 'PreInt_EduHx-Season'\n",
    "]].corr()\n",
    "\n",
    "sii_corr = corr_matrix['PCIAT-PCIAT_Total'].drop('PCIAT-PCIAT_Total')\n",
    "filtered_corr = sii_corr[(sii_corr > 0.05) | (sii_corr < -0.05)]\n",
    "\n",
    "print(filtered_corr)\n",
    "\n",
    "plt.figure(figsize=(8, 6))\n",
    "filtered_corr.sort_values().plot(kind='barh', color='#55B197')\n",
    "plt.title('Features with Correlation > 0.05 or < -0.05 with PCIAT-PCIAT_Total')\n",
    "plt.xlabel('Correlation coefficient')\n",
    "plt.ylabel('Features')\n",
    "plt.tight_layout()\n",
    "plt.show()"
   ]
  },
  {
   "cell_type": "markdown",
   "id": "5826668d",
   "metadata": {
    "papermill": {
     "duration": 0.012457,
     "end_time": "2024-12-15T05:41:25.190277",
     "exception": false,
     "start_time": "2024-12-15T05:41:25.177820",
     "status": "completed"
    },
    "tags": []
   },
   "source": [
    "# II. Feature Engineering"
   ]
  },
  {
   "cell_type": "markdown",
   "id": "af8c5def",
   "metadata": {
    "papermill": {
     "duration": 0.012581,
     "end_time": "2024-12-15T05:41:25.215137",
     "exception": false,
     "start_time": "2024-12-15T05:41:25.202556",
     "status": "completed"
    },
    "tags": []
   },
   "source": [
    "### 2.2. Handle Actigraphy data"
   ]
  },
  {
   "cell_type": "code",
   "execution_count": 18,
   "id": "c8ba14b7",
   "metadata": {
    "execution": {
     "iopub.execute_input": "2024-12-15T05:41:25.241901Z",
     "iopub.status.busy": "2024-12-15T05:41:25.241236Z",
     "iopub.status.idle": "2024-12-15T05:41:25.252901Z",
     "shell.execute_reply": "2024-12-15T05:41:25.252218Z"
    },
    "papermill": {
     "duration": 0.027015,
     "end_time": "2024-12-15T05:41:25.254517",
     "exception": false,
     "start_time": "2024-12-15T05:41:25.227502",
     "status": "completed"
    },
    "tags": []
   },
   "outputs": [],
   "source": [
    "from concurrent.futures import ThreadPoolExecutor\n",
    "from pathlib import Path\n",
    "\n",
    "# Function to process a single file\n",
    "def process_file(filename, dirname):\n",
    "    filepath = Path(dirname) / filename / 'part-0.parquet'\n",
    "    df = pd.read_parquet(filepath)\n",
    "    df = df.drop(columns='step') \n",
    "    return df.describe().values.reshape(-1), filename.split('=')[1]\n",
    "\n",
    "# Function to load and process all files in parallel\n",
    "def load_time_series(dirname) -> pd.DataFrame:\n",
    "    ids = os.listdir(dirname)\n",
    "    num_threads = min(len(ids), \n",
    "                      os.cpu_count() * 4) # add more CPU\n",
    "    with ThreadPoolExecutor(max_workers=num_threads) as executor:\n",
    "        results = list(tqdm(executor.map(lambda fname: process_file(fname, dirname), ids), total=len(ids)))\n",
    "    stats, indexes = zip(*results)\n",
    "    df = pd.DataFrame(stats, columns=[f\"stat_{i}\" for i in range(len(stats[0]))])\n",
    "    df['id'] = indexes\n",
    "    return df\n",
    "\n",
    "# AutoEncoder class\n",
    "class AutoEncoder(nn.Module):\n",
    "    def __init__(self, input_dim, encoding_dim):\n",
    "        super().__init__()\n",
    "        self.encoder = nn.Sequential(\n",
    "            nn.Linear(input_dim, encoding_dim * 3), nn.ReLU(),\n",
    "            nn.Linear(encoding_dim * 3, encoding_dim * 2), nn.ReLU(),\n",
    "            nn.Linear(encoding_dim * 2, encoding_dim), nn.ReLU()\n",
    "        )\n",
    "        self.decoder = nn.Sequential(\n",
    "            nn.Linear(encoding_dim, input_dim * 2), nn.ReLU(),\n",
    "            nn.Linear(input_dim * 2, input_dim * 3), nn.ReLU(),\n",
    "            nn.Linear(input_dim * 3, input_dim), nn.Sigmoid()\n",
    "        )\n",
    "\n",
    "    def forward(self, x):\n",
    "        encoded = self.encoder(x)\n",
    "        decoded = self.decoder(encoded)\n",
    "        return decoded\n",
    "\n",
    "# Function to train and use the AutoEncoder\n",
    "def autoencode_data(df, encoding_dim=50, epochs=50, batch_size=32):\n",
    "    scaler = StandardScaler()\n",
    "    df_scaled = scaler.fit_transform(df)\n",
    "    data_tensor = torch.FloatTensor(df_scaled)\n",
    "    input_dim = data_tensor.shape[1]\n",
    "    \n",
    "    autoencoder = AutoEncoder(input_dim, encoding_dim)\n",
    "    criterion = nn.MSELoss()\n",
    "    optimizer = optim.Adam(autoencoder.parameters(), lr=0.001)\n",
    "\n",
    "    for epoch in range(epochs):\n",
    "        for i in range(0, len(data_tensor), batch_size):\n",
    "            batch = data_tensor[i:i + batch_size]\n",
    "            optimizer.zero_grad()\n",
    "            loss = criterion(autoencoder(batch), batch)\n",
    "            loss.backward()\n",
    "            optimizer.step()\n",
    "\n",
    "        if (epoch + 1) % 10 == 0:\n",
    "            print(f'Epoch [{epoch + 1}/{epochs}], Loss: {loss.item():.4f}')\n",
    "\n",
    "    with torch.no_grad():\n",
    "        encoded_data = autoencoder.encoder(data_tensor).numpy()\n",
    "\n",
    "    return pd.DataFrame(encoded_data, columns=[f'Acti_{i + 1}' for i in range(encoded_data.shape[1])])"
   ]
  },
  {
   "cell_type": "code",
   "execution_count": 19,
   "id": "2c58ea93",
   "metadata": {
    "execution": {
     "iopub.execute_input": "2024-12-15T05:41:25.280383Z",
     "iopub.status.busy": "2024-12-15T05:41:25.280124Z",
     "iopub.status.idle": "2024-12-15T05:42:46.302686Z",
     "shell.execute_reply": "2024-12-15T05:42:46.301578Z"
    },
    "papermill": {
     "duration": 81.038273,
     "end_time": "2024-12-15T05:42:46.304975",
     "exception": false,
     "start_time": "2024-12-15T05:41:25.266702",
     "status": "completed"
    },
    "tags": []
   },
   "outputs": [
    {
     "name": "stderr",
     "output_type": "stream",
     "text": [
      "100%|██████████| 996/996 [01:14<00:00, 13.37it/s]\n",
      "100%|██████████| 2/2 [00:00<00:00, 10.68it/s]\n"
     ]
    },
    {
     "name": "stdout",
     "output_type": "stream",
     "text": [
      "Epoch [10/50], Loss: 1.6351\n",
      "Epoch [20/50], Loss: 1.5681\n",
      "Epoch [30/50], Loss: 1.5388\n",
      "Epoch [40/50], Loss: 1.5098\n",
      "Epoch [50/50], Loss: 1.5085\n",
      "Epoch [10/50], Loss: 1.0221\n",
      "Epoch [20/50], Loss: 0.7694\n",
      "Epoch [30/50], Loss: 0.4418\n",
      "Epoch [40/50], Loss: 0.4271\n",
      "Epoch [50/50], Loss: 0.4271\n"
     ]
    }
   ],
   "source": [
    "#read\n",
    "train_acti = load_time_series('/kaggle/input/child-mind-institute-problematic-internet-use/series_train.parquet')\n",
    "test_acti = load_time_series('/kaggle/input/child-mind-institute-problematic-internet-use/series_test.parquet')\n",
    "\n",
    "#encode\n",
    "train_ts = autoencode_data(train_acti.drop('id', axis=1))\n",
    "test_ts = autoencode_data(test_acti.drop('id', axis=1))\n",
    "\n",
    "train_ts['id'] = train_acti['id']\n",
    "test_ts['id'] = test_acti['id']"
   ]
  },
  {
   "cell_type": "markdown",
   "id": "0bbc3dcc",
   "metadata": {
    "papermill": {
     "duration": 0.025375,
     "end_time": "2024-12-15T05:42:46.361539",
     "exception": false,
     "start_time": "2024-12-15T05:42:46.336164",
     "status": "completed"
    },
    "tags": []
   },
   "source": [
    "### 2.1 Feature selection"
   ]
  },
  {
   "cell_type": "code",
   "execution_count": 20,
   "id": "39641d71",
   "metadata": {
    "execution": {
     "iopub.execute_input": "2024-12-15T05:42:46.415076Z",
     "iopub.status.busy": "2024-12-15T05:42:46.413799Z",
     "iopub.status.idle": "2024-12-15T05:42:46.450517Z",
     "shell.execute_reply": "2024-12-15T05:42:46.449713Z"
    },
    "papermill": {
     "duration": 0.065836,
     "end_time": "2024-12-15T05:42:46.452404",
     "exception": false,
     "start_time": "2024-12-15T05:42:46.386568",
     "status": "completed"
    },
    "tags": []
   },
   "outputs": [
    {
     "data": {
      "text/html": [
       "<div>\n",
       "<style scoped>\n",
       "    .dataframe tbody tr th:only-of-type {\n",
       "        vertical-align: middle;\n",
       "    }\n",
       "\n",
       "    .dataframe tbody tr th {\n",
       "        vertical-align: top;\n",
       "    }\n",
       "\n",
       "    .dataframe thead th {\n",
       "        text-align: right;\n",
       "    }\n",
       "</style>\n",
       "<table border=\"1\" class=\"dataframe\">\n",
       "  <thead>\n",
       "    <tr style=\"text-align: right;\">\n",
       "      <th></th>\n",
       "      <th>id</th>\n",
       "      <th>Basic_Demos-Age</th>\n",
       "      <th>Physical-Systolic_BP</th>\n",
       "      <th>BIA-BIA_FFMI</th>\n",
       "      <th>BIA-BIA_BMI</th>\n",
       "      <th>FGC-FGC_SRR</th>\n",
       "      <th>Physical-Weight</th>\n",
       "      <th>Physical-Diastolic_BP</th>\n",
       "      <th>BIA-BIA_ICW</th>\n",
       "      <th>BIA-BIA_LST</th>\n",
       "      <th>SDS-SDS_Total_Raw</th>\n",
       "      <th>Physical-BMI</th>\n",
       "      <th>SDS-SDS_Total_T</th>\n",
       "      <th>FGC-FGC_SRR_Zone</th>\n",
       "      <th>FGC-FGC_PU_Zone</th>\n",
       "      <th>FGC-FGC_TL</th>\n",
       "      <th>CGAS-CGAS_Score</th>\n",
       "      <th>Basic_Demos-Sex</th>\n",
       "      <th>FGC-FGC_SRL</th>\n",
       "      <th>FGC-FGC_SRL_Zone</th>\n",
       "      <th>PAQ_C-Season</th>\n",
       "      <th>BIA-BIA_Activity_Level_num</th>\n",
       "      <th>Physical-Height</th>\n",
       "      <th>BIA-BIA_Frame_num</th>\n",
       "      <th>PreInt_EduHx-computerinternet_hoursday</th>\n",
       "      <th>BIA-BIA_SMM</th>\n",
       "      <th>BIA-BIA_DEE</th>\n",
       "      <th>BIA-BIA_FMI</th>\n",
       "      <th>FGC-FGC_PU</th>\n",
       "      <th>FGC-FGC_CU</th>\n",
       "    </tr>\n",
       "  </thead>\n",
       "  <tbody>\n",
       "    <tr>\n",
       "      <th>0</th>\n",
       "      <td>00008ff9</td>\n",
       "      <td>5</td>\n",
       "      <td>NaN</td>\n",
       "      <td>13.8177</td>\n",
       "      <td>16.8792</td>\n",
       "      <td>6.0</td>\n",
       "      <td>50.8</td>\n",
       "      <td>NaN</td>\n",
       "      <td>24.4349</td>\n",
       "      <td>38.9177</td>\n",
       "      <td>NaN</td>\n",
       "      <td>16.877316</td>\n",
       "      <td>NaN</td>\n",
       "      <td>0.0</td>\n",
       "      <td>0.0</td>\n",
       "      <td>6.0</td>\n",
       "      <td>51.0</td>\n",
       "      <td>0</td>\n",
       "      <td>7.0</td>\n",
       "      <td>0.0</td>\n",
       "      <td>4</td>\n",
       "      <td>2.0</td>\n",
       "      <td>46.0</td>\n",
       "      <td>1.0</td>\n",
       "      <td>3.0</td>\n",
       "      <td>19.5413</td>\n",
       "      <td>1492.00</td>\n",
       "      <td>3.06143</td>\n",
       "      <td>0.0</td>\n",
       "      <td>0.0</td>\n",
       "    </tr>\n",
       "    <tr>\n",
       "      <th>1</th>\n",
       "      <td>000fd460</td>\n",
       "      <td>9</td>\n",
       "      <td>122.0</td>\n",
       "      <td>12.8254</td>\n",
       "      <td>14.0371</td>\n",
       "      <td>11.0</td>\n",
       "      <td>46.0</td>\n",
       "      <td>75.0</td>\n",
       "      <td>21.0352</td>\n",
       "      <td>39.4497</td>\n",
       "      <td>46.0</td>\n",
       "      <td>14.035590</td>\n",
       "      <td>64.0</td>\n",
       "      <td>1.0</td>\n",
       "      <td>0.0</td>\n",
       "      <td>3.0</td>\n",
       "      <td>NaN</td>\n",
       "      <td>0</td>\n",
       "      <td>11.0</td>\n",
       "      <td>1.0</td>\n",
       "      <td>0</td>\n",
       "      <td>2.0</td>\n",
       "      <td>48.0</td>\n",
       "      <td>1.0</td>\n",
       "      <td>0.0</td>\n",
       "      <td>15.4107</td>\n",
       "      <td>1498.65</td>\n",
       "      <td>1.21172</td>\n",
       "      <td>5.0</td>\n",
       "      <td>3.0</td>\n",
       "    </tr>\n",
       "    <tr>\n",
       "      <th>2</th>\n",
       "      <td>00105258</td>\n",
       "      <td>10</td>\n",
       "      <td>117.0</td>\n",
       "      <td>NaN</td>\n",
       "      <td>NaN</td>\n",
       "      <td>10.0</td>\n",
       "      <td>75.6</td>\n",
       "      <td>65.0</td>\n",
       "      <td>NaN</td>\n",
       "      <td>NaN</td>\n",
       "      <td>38.0</td>\n",
       "      <td>16.648696</td>\n",
       "      <td>54.0</td>\n",
       "      <td>1.0</td>\n",
       "      <td>1.0</td>\n",
       "      <td>5.0</td>\n",
       "      <td>71.0</td>\n",
       "      <td>1</td>\n",
       "      <td>10.0</td>\n",
       "      <td>1.0</td>\n",
       "      <td>2</td>\n",
       "      <td>NaN</td>\n",
       "      <td>56.5</td>\n",
       "      <td>NaN</td>\n",
       "      <td>2.0</td>\n",
       "      <td>NaN</td>\n",
       "      <td>NaN</td>\n",
       "      <td>NaN</td>\n",
       "      <td>7.0</td>\n",
       "      <td>20.0</td>\n",
       "    </tr>\n",
       "    <tr>\n",
       "      <th>3</th>\n",
       "      <td>00115b9f</td>\n",
       "      <td>9</td>\n",
       "      <td>117.0</td>\n",
       "      <td>14.0740</td>\n",
       "      <td>18.2943</td>\n",
       "      <td>7.0</td>\n",
       "      <td>81.6</td>\n",
       "      <td>60.0</td>\n",
       "      <td>30.4041</td>\n",
       "      <td>58.9338</td>\n",
       "      <td>31.0</td>\n",
       "      <td>18.292347</td>\n",
       "      <td>45.0</td>\n",
       "      <td>0.0</td>\n",
       "      <td>0.0</td>\n",
       "      <td>7.0</td>\n",
       "      <td>71.0</td>\n",
       "      <td>0</td>\n",
       "      <td>7.0</td>\n",
       "      <td>0.0</td>\n",
       "      <td>3</td>\n",
       "      <td>3.0</td>\n",
       "      <td>56.0</td>\n",
       "      <td>2.0</td>\n",
       "      <td>0.0</td>\n",
       "      <td>26.4798</td>\n",
       "      <td>1923.44</td>\n",
       "      <td>4.22033</td>\n",
       "      <td>5.0</td>\n",
       "      <td>18.0</td>\n",
       "    </tr>\n",
       "    <tr>\n",
       "      <th>4</th>\n",
       "      <td>0016bb22</td>\n",
       "      <td>18</td>\n",
       "      <td>NaN</td>\n",
       "      <td>NaN</td>\n",
       "      <td>NaN</td>\n",
       "      <td>NaN</td>\n",
       "      <td>NaN</td>\n",
       "      <td>NaN</td>\n",
       "      <td>NaN</td>\n",
       "      <td>NaN</td>\n",
       "      <td>NaN</td>\n",
       "      <td>NaN</td>\n",
       "      <td>NaN</td>\n",
       "      <td>NaN</td>\n",
       "      <td>NaN</td>\n",
       "      <td>NaN</td>\n",
       "      <td>NaN</td>\n",
       "      <td>1</td>\n",
       "      <td>NaN</td>\n",
       "      <td>NaN</td>\n",
       "      <td>4</td>\n",
       "      <td>NaN</td>\n",
       "      <td>NaN</td>\n",
       "      <td>NaN</td>\n",
       "      <td>NaN</td>\n",
       "      <td>NaN</td>\n",
       "      <td>NaN</td>\n",
       "      <td>NaN</td>\n",
       "      <td>NaN</td>\n",
       "      <td>NaN</td>\n",
       "    </tr>\n",
       "  </tbody>\n",
       "</table>\n",
       "</div>"
      ],
      "text/plain": [
       "         id  Basic_Demos-Age  Physical-Systolic_BP  BIA-BIA_FFMI  BIA-BIA_BMI  \\\n",
       "0  00008ff9                5                   NaN       13.8177      16.8792   \n",
       "1  000fd460                9                 122.0       12.8254      14.0371   \n",
       "2  00105258               10                 117.0           NaN          NaN   \n",
       "3  00115b9f                9                 117.0       14.0740      18.2943   \n",
       "4  0016bb22               18                   NaN           NaN          NaN   \n",
       "\n",
       "   FGC-FGC_SRR  Physical-Weight  Physical-Diastolic_BP  BIA-BIA_ICW  \\\n",
       "0          6.0             50.8                    NaN      24.4349   \n",
       "1         11.0             46.0                   75.0      21.0352   \n",
       "2         10.0             75.6                   65.0          NaN   \n",
       "3          7.0             81.6                   60.0      30.4041   \n",
       "4          NaN              NaN                    NaN          NaN   \n",
       "\n",
       "   BIA-BIA_LST  SDS-SDS_Total_Raw  Physical-BMI  SDS-SDS_Total_T  \\\n",
       "0      38.9177                NaN     16.877316              NaN   \n",
       "1      39.4497               46.0     14.035590             64.0   \n",
       "2          NaN               38.0     16.648696             54.0   \n",
       "3      58.9338               31.0     18.292347             45.0   \n",
       "4          NaN                NaN           NaN              NaN   \n",
       "\n",
       "   FGC-FGC_SRR_Zone  FGC-FGC_PU_Zone  FGC-FGC_TL  CGAS-CGAS_Score  \\\n",
       "0               0.0              0.0         6.0             51.0   \n",
       "1               1.0              0.0         3.0              NaN   \n",
       "2               1.0              1.0         5.0             71.0   \n",
       "3               0.0              0.0         7.0             71.0   \n",
       "4               NaN              NaN         NaN              NaN   \n",
       "\n",
       "   Basic_Demos-Sex  FGC-FGC_SRL  FGC-FGC_SRL_Zone  PAQ_C-Season  \\\n",
       "0                0          7.0               0.0             4   \n",
       "1                0         11.0               1.0             0   \n",
       "2                1         10.0               1.0             2   \n",
       "3                0          7.0               0.0             3   \n",
       "4                1          NaN               NaN             4   \n",
       "\n",
       "   BIA-BIA_Activity_Level_num  Physical-Height  BIA-BIA_Frame_num  \\\n",
       "0                         2.0             46.0                1.0   \n",
       "1                         2.0             48.0                1.0   \n",
       "2                         NaN             56.5                NaN   \n",
       "3                         3.0             56.0                2.0   \n",
       "4                         NaN              NaN                NaN   \n",
       "\n",
       "   PreInt_EduHx-computerinternet_hoursday  BIA-BIA_SMM  BIA-BIA_DEE  \\\n",
       "0                                     3.0      19.5413      1492.00   \n",
       "1                                     0.0      15.4107      1498.65   \n",
       "2                                     2.0          NaN          NaN   \n",
       "3                                     0.0      26.4798      1923.44   \n",
       "4                                     NaN          NaN          NaN   \n",
       "\n",
       "   BIA-BIA_FMI  FGC-FGC_PU  FGC-FGC_CU  \n",
       "0      3.06143         0.0         0.0  \n",
       "1      1.21172         5.0         3.0  \n",
       "2          NaN         7.0        20.0  \n",
       "3      4.22033         5.0        18.0  \n",
       "4          NaN         NaN         NaN  "
      ]
     },
     "execution_count": 20,
     "metadata": {},
     "output_type": "execute_result"
    }
   ],
   "source": [
    "# choose features with high correlation\n",
    "featuresCols = [\"Basic_Demos-Age\", \"Physical-BMI\", \"Physical-Height\", \"Physical-Weight\", \n",
    "    \"FGC-FGC_GSND\", \"FGC-FGC_GSD\", \"FGC-FGC_SRL\", \"FGC-FGC_SRR\", \n",
    "    \"BIA-BIA_BMI\", \"BIA-BIA_DEE\", \"BIA-BIA_FFMI\", \"BIA-BIA_FMI\", \n",
    "    \"BIA-BIA_ICW\", \"BIA-BIA_LST\", \"BIA-BIA_SMM\", \"CGAS-CGAS_Score\", \n",
    "    \"Physical-Waist_Circumference\", \"Physical-Diastolic_BP\", \"Physical-Systolic_BP\", \n",
    "    \"Fitness_Endurance-Time_Mins\", \"FGC-FGC_CU\", \"FGC-FGC_PU\", \"FGC-FGC_TL\", \n",
    "    \"SDS-SDS_Total_Raw\", \"SDS-SDS_Total_T\", \"PreInt_EduHx-computerinternet_hoursday\", \n",
    "    \"Basic_Demos-Sex\", \"FGC-FGC_PU_Zone\", \"FGC-FGC_SRL_Zone\", \"FGC-FGC_SRR_Zone\", \n",
    "    \"BIA-BIA_Activity_Level_num\", \"BIA-BIA_Frame_num\", \"Fitness_Endurance-Season\", \n",
    "    \"PAQ_A-Season\", \"PAQ_C-Season\" ]\n",
    "#filter features has >50% missing data\n",
    "columns_with_missing = missing_percentage[missing_percentage > 50].index\n",
    "missCols = usable_train_df[columns_with_missing]\n",
    "# print(missCols)\n",
    "\n",
    "selectedFeatures = list(set(featuresCols) - set(missCols))\n",
    "selected_df = usable_train_df[[\"id\"] + [col for col in selectedFeatures if col != \"id\"]]\n",
    "\n",
    "test = test_df[[\"id\"]+ selectedFeatures]\n",
    "test.head()"
   ]
  },
  {
   "cell_type": "code",
   "execution_count": 21,
   "id": "668be436",
   "metadata": {
    "execution": {
     "iopub.execute_input": "2024-12-15T05:42:46.508100Z",
     "iopub.status.busy": "2024-12-15T05:42:46.507724Z",
     "iopub.status.idle": "2024-12-15T05:42:46.522259Z",
     "shell.execute_reply": "2024-12-15T05:42:46.521565Z"
    },
    "papermill": {
     "duration": 0.043195,
     "end_time": "2024-12-15T05:42:46.523828",
     "exception": false,
     "start_time": "2024-12-15T05:42:46.480633",
     "status": "completed"
    },
    "tags": []
   },
   "outputs": [],
   "source": [
    "selected_df = selected_df.merge(train_ts, on='id', how='left')\n",
    "test = test.merge(test_ts, on='id', how='left')"
   ]
  },
  {
   "cell_type": "code",
   "execution_count": 22,
   "id": "417ea7e8",
   "metadata": {
    "collapsed": true,
    "execution": {
     "iopub.execute_input": "2024-12-15T05:42:46.576094Z",
     "iopub.status.busy": "2024-12-15T05:42:46.575764Z",
     "iopub.status.idle": "2024-12-15T05:42:46.590653Z",
     "shell.execute_reply": "2024-12-15T05:42:46.589888Z"
    },
    "jupyter": {
     "outputs_hidden": true
    },
    "papermill": {
     "duration": 0.043642,
     "end_time": "2024-12-15T05:42:46.593092",
     "exception": false,
     "start_time": "2024-12-15T05:42:46.549450",
     "status": "completed"
    },
    "tags": []
   },
   "outputs": [
    {
     "name": "stdout",
     "output_type": "stream",
     "text": [
      "<class 'pandas.core.frame.DataFrame'>\n",
      "RangeIndex: 20 entries, 0 to 19\n",
      "Data columns (total 80 columns):\n",
      " #   Column                                  Non-Null Count  Dtype  \n",
      "---  ------                                  --------------  -----  \n",
      " 0   id                                      20 non-null     object \n",
      " 1   Basic_Demos-Age                         20 non-null     int64  \n",
      " 2   Physical-Systolic_BP                    11 non-null     float64\n",
      " 3   BIA-BIA_FFMI                            8 non-null      float64\n",
      " 4   BIA-BIA_BMI                             8 non-null      float64\n",
      " 5   FGC-FGC_SRR                             13 non-null     float64\n",
      " 6   Physical-Weight                         13 non-null     float64\n",
      " 7   Physical-Diastolic_BP                   11 non-null     float64\n",
      " 8   BIA-BIA_ICW                             8 non-null      float64\n",
      " 9   BIA-BIA_LST                             8 non-null      float64\n",
      " 10  SDS-SDS_Total_Raw                       10 non-null     float64\n",
      " 11  Physical-BMI                            13 non-null     float64\n",
      " 12  SDS-SDS_Total_T                         10 non-null     float64\n",
      " 13  FGC-FGC_SRR_Zone                        13 non-null     float64\n",
      " 14  FGC-FGC_PU_Zone                         13 non-null     float64\n",
      " 15  FGC-FGC_TL                              13 non-null     float64\n",
      " 16  CGAS-CGAS_Score                         8 non-null      float64\n",
      " 17  Basic_Demos-Sex                         20 non-null     int64  \n",
      " 18  FGC-FGC_SRL                             13 non-null     float64\n",
      " 19  FGC-FGC_SRL_Zone                        13 non-null     float64\n",
      " 20  PAQ_C-Season                            20 non-null     int64  \n",
      " 21  BIA-BIA_Activity_Level_num              8 non-null      float64\n",
      " 22  Physical-Height                         13 non-null     float64\n",
      " 23  BIA-BIA_Frame_num                       8 non-null      float64\n",
      " 24  PreInt_EduHx-computerinternet_hoursday  16 non-null     float64\n",
      " 25  BIA-BIA_SMM                             8 non-null      float64\n",
      " 26  BIA-BIA_DEE                             8 non-null      float64\n",
      " 27  BIA-BIA_FMI                             8 non-null      float64\n",
      " 28  FGC-FGC_PU                              13 non-null     float64\n",
      " 29  FGC-FGC_CU                              13 non-null     float64\n",
      " 30  Acti_1                                  2 non-null      float32\n",
      " 31  Acti_2                                  2 non-null      float32\n",
      " 32  Acti_3                                  2 non-null      float32\n",
      " 33  Acti_4                                  2 non-null      float32\n",
      " 34  Acti_5                                  2 non-null      float32\n",
      " 35  Acti_6                                  2 non-null      float32\n",
      " 36  Acti_7                                  2 non-null      float32\n",
      " 37  Acti_8                                  2 non-null      float32\n",
      " 38  Acti_9                                  2 non-null      float32\n",
      " 39  Acti_10                                 2 non-null      float32\n",
      " 40  Acti_11                                 2 non-null      float32\n",
      " 41  Acti_12                                 2 non-null      float32\n",
      " 42  Acti_13                                 2 non-null      float32\n",
      " 43  Acti_14                                 2 non-null      float32\n",
      " 44  Acti_15                                 2 non-null      float32\n",
      " 45  Acti_16                                 2 non-null      float32\n",
      " 46  Acti_17                                 2 non-null      float32\n",
      " 47  Acti_18                                 2 non-null      float32\n",
      " 48  Acti_19                                 2 non-null      float32\n",
      " 49  Acti_20                                 2 non-null      float32\n",
      " 50  Acti_21                                 2 non-null      float32\n",
      " 51  Acti_22                                 2 non-null      float32\n",
      " 52  Acti_23                                 2 non-null      float32\n",
      " 53  Acti_24                                 2 non-null      float32\n",
      " 54  Acti_25                                 2 non-null      float32\n",
      " 55  Acti_26                                 2 non-null      float32\n",
      " 56  Acti_27                                 2 non-null      float32\n",
      " 57  Acti_28                                 2 non-null      float32\n",
      " 58  Acti_29                                 2 non-null      float32\n",
      " 59  Acti_30                                 2 non-null      float32\n",
      " 60  Acti_31                                 2 non-null      float32\n",
      " 61  Acti_32                                 2 non-null      float32\n",
      " 62  Acti_33                                 2 non-null      float32\n",
      " 63  Acti_34                                 2 non-null      float32\n",
      " 64  Acti_35                                 2 non-null      float32\n",
      " 65  Acti_36                                 2 non-null      float32\n",
      " 66  Acti_37                                 2 non-null      float32\n",
      " 67  Acti_38                                 2 non-null      float32\n",
      " 68  Acti_39                                 2 non-null      float32\n",
      " 69  Acti_40                                 2 non-null      float32\n",
      " 70  Acti_41                                 2 non-null      float32\n",
      " 71  Acti_42                                 2 non-null      float32\n",
      " 72  Acti_43                                 2 non-null      float32\n",
      " 73  Acti_44                                 2 non-null      float32\n",
      " 74  Acti_45                                 2 non-null      float32\n",
      " 75  Acti_46                                 2 non-null      float32\n",
      " 76  Acti_47                                 2 non-null      float32\n",
      " 77  Acti_48                                 2 non-null      float32\n",
      " 78  Acti_49                                 2 non-null      float32\n",
      " 79  Acti_50                                 2 non-null      float32\n",
      "dtypes: float32(50), float64(26), int64(3), object(1)\n",
      "memory usage: 8.7+ KB\n"
     ]
    }
   ],
   "source": [
    "selected_df = selected_df.drop(columns='id')\n",
    "test.info()"
   ]
  },
  {
   "cell_type": "markdown",
   "id": "d72b6d13",
   "metadata": {
    "papermill": {
     "duration": 0.025531,
     "end_time": "2024-12-15T05:42:46.649802",
     "exception": false,
     "start_time": "2024-12-15T05:42:46.624271",
     "status": "completed"
    },
    "tags": []
   },
   "source": [
    "### 2.2. Handle missing data"
   ]
  },
  {
   "cell_type": "code",
   "execution_count": 23,
   "id": "4fd58992",
   "metadata": {
    "execution": {
     "iopub.execute_input": "2024-12-15T05:42:46.704110Z",
     "iopub.status.busy": "2024-12-15T05:42:46.703726Z",
     "iopub.status.idle": "2024-12-15T05:43:21.887126Z",
     "shell.execute_reply": "2024-12-15T05:43:21.885615Z"
    },
    "papermill": {
     "duration": 35.214652,
     "end_time": "2024-12-15T05:43:21.890750",
     "exception": false,
     "start_time": "2024-12-15T05:42:46.676098",
     "status": "completed"
    },
    "tags": []
   },
   "outputs": [],
   "source": [
    "from sklearn.experimental import enable_iterative_imputer\n",
    "from sklearn.impute import IterativeImputer\n",
    "\n",
    "imputer = IterativeImputer(max_iter=20, random_state=0)\n",
    "\n",
    "selected_df = pd.DataFrame(imputer.fit_transform(selected_df), columns=selected_df.columns)\n",
    "#selected_df.head()"
   ]
  },
  {
   "cell_type": "markdown",
   "id": "f442f32c",
   "metadata": {
    "papermill": {
     "duration": 0.025875,
     "end_time": "2024-12-15T05:43:22.036223",
     "exception": false,
     "start_time": "2024-12-15T05:43:22.010348",
     "status": "completed"
    },
    "tags": []
   },
   "source": [
    "# III. Model training"
   ]
  },
  {
   "cell_type": "markdown",
   "id": "1e82d8f7",
   "metadata": {
    "papermill": {
     "duration": 0.025572,
     "end_time": "2024-12-15T05:43:22.087332",
     "exception": false,
     "start_time": "2024-12-15T05:43:22.061760",
     "status": "completed"
    },
    "tags": []
   },
   "source": [
    "### Model"
   ]
  },
  {
   "cell_type": "code",
   "execution_count": 24,
   "id": "051add41",
   "metadata": {
    "execution": {
     "iopub.execute_input": "2024-12-15T05:43:22.140807Z",
     "iopub.status.busy": "2024-12-15T05:43:22.140358Z",
     "iopub.status.idle": "2024-12-15T05:43:22.145807Z",
     "shell.execute_reply": "2024-12-15T05:43:22.145099Z"
    },
    "papermill": {
     "duration": 0.034714,
     "end_time": "2024-12-15T05:43:22.147377",
     "exception": false,
     "start_time": "2024-12-15T05:43:22.112663",
     "status": "completed"
    },
    "tags": []
   },
   "outputs": [],
   "source": [
    "Params_LGB = {\n",
    "   'learning_rate': 0.046,\n",
    "    'max_depth': 12,\n",
    "    'num_leaves': 478,\n",
    "    'min_data_in_leaf': 13,\n",
    "    'feature_fraction': 0.893,\n",
    "    'bagging_fraction': 0.784,\n",
    "    'bagging_freq': 4,\n",
    "    'lambda_l1': 10,  # Increased from 6.59\n",
    "    'lambda_l2': 0.01,\n",
    "    'verbose': -1\n",
    "}\n",
    "\n",
    "XGB_Params = {\n",
    "    'learning_rate': 0.05,\n",
    "    'max_depth': 6,\n",
    "    'n_estimators': 200,\n",
    "    'subsample': 0.8,\n",
    "    'colsample_bytree': 0.8,\n",
    "    'reg_alpha': 1,\n",
    "    'reg_lambda': 5,\n",
    "    'random_state': 0,\n",
    "    'tree_method': 'hist',  \n",
    "}\n",
    "\n",
    "CatBoost_Params = {\n",
    "    'learning_rate': 0.05,\n",
    "    'depth': 6,\n",
    "    'iterations': 200,\n",
    "    'random_seed': 0,\n",
    "    'verbose': 0,\n",
    "    'l2_leaf_reg': 10,\n",
    "    'task_type': 'CPU' \n",
    "}\n"
   ]
  },
  {
   "cell_type": "code",
   "execution_count": 25,
   "id": "1095e807",
   "metadata": {
    "execution": {
     "iopub.execute_input": "2024-12-15T05:43:22.199807Z",
     "iopub.status.busy": "2024-12-15T05:43:22.199469Z",
     "iopub.status.idle": "2024-12-15T05:43:22.206264Z",
     "shell.execute_reply": "2024-12-15T05:43:22.205334Z"
    },
    "papermill": {
     "duration": 0.034829,
     "end_time": "2024-12-15T05:43:22.207880",
     "exception": false,
     "start_time": "2024-12-15T05:43:22.173051",
     "status": "completed"
    },
    "tags": []
   },
   "outputs": [],
   "source": [
    "lgb_model = lgb.LGBMRegressor(**Params_LGB)\n",
    "xgb_model = xgb.XGBRegressor(**XGB_Params)\n",
    "catboost_model = cb.CatBoostRegressor(**CatBoost_Params)\n",
    "\n",
    "# Voting Regression\n",
    "\n",
    "voting_clf = VotingRegressor(\n",
    "    estimators=[\n",
    "        ('lgb', lgb_model),\n",
    "        ('xgb', xgb_model),\n",
    "        ('catboost', catboost_model),\n",
    "    ]\n",
    ") "
   ]
  },
  {
   "cell_type": "code",
   "execution_count": 26,
   "id": "99796b4d",
   "metadata": {
    "execution": {
     "iopub.execute_input": "2024-12-15T05:43:22.260758Z",
     "iopub.status.busy": "2024-12-15T05:43:22.260064Z",
     "iopub.status.idle": "2024-12-15T05:43:22.265364Z",
     "shell.execute_reply": "2024-12-15T05:43:22.264619Z"
    },
    "papermill": {
     "duration": 0.033921,
     "end_time": "2024-12-15T05:43:22.267048",
     "exception": false,
     "start_time": "2024-12-15T05:43:22.233127",
     "status": "completed"
    },
    "tags": []
   },
   "outputs": [],
   "source": [
    "def quadratic_weighted_kappa(y_true, y_pred):\n",
    "    return cohen_kappa_score(y_true, y_pred, weights='quadratic')\n",
    "\n",
    "def threshold_Rounder(oof_non_rounded, thresholds):\n",
    "    return np.where(oof_non_rounded < thresholds[0], 0,\n",
    "                    np.where(oof_non_rounded < thresholds[1], 1,\n",
    "                             np.where(oof_non_rounded < thresholds[2], 2, 3)))\n",
    "\n",
    "def evaluate_predictions(thresholds, y_true, oof_non_rounded):\n",
    "    rounded_p = threshold_Rounder(oof_non_rounded, thresholds)\n",
    "    return -quadratic_weighted_kappa(y_true, rounded_p)"
   ]
  },
  {
   "cell_type": "code",
   "execution_count": 27,
   "id": "5f046f63",
   "metadata": {
    "execution": {
     "iopub.execute_input": "2024-12-15T05:43:22.320391Z",
     "iopub.status.busy": "2024-12-15T05:43:22.319573Z",
     "iopub.status.idle": "2024-12-15T05:43:22.329298Z",
     "shell.execute_reply": "2024-12-15T05:43:22.328582Z"
    },
    "papermill": {
     "duration": 0.038338,
     "end_time": "2024-12-15T05:43:22.330973",
     "exception": false,
     "start_time": "2024-12-15T05:43:22.292635",
     "status": "completed"
    },
    "tags": []
   },
   "outputs": [],
   "source": [
    "def ModelTraining(X,y, test_data):\n",
    "    SKF = StratifiedKFold(n_splits=10, shuffle=True, random_state=0)\n",
    "   \n",
    "    # store QWK\n",
    "    train_S = []\n",
    "    test_S = []\n",
    "    \n",
    "    # create array storing prediction to calculate QWK\n",
    "    oof_non_rounded = np.zeros(len(y), dtype=float)  # used for training set\n",
    "    oof_rounded = np.zeros(len(y), dtype=int)\n",
    "    test_preds = np.zeros((len(test_data), 10))  # used for testing set\n",
    "\n",
    "    # training loop\n",
    "    for fold, (train_idx, test_idx) in enumerate(tqdm(SKF.split(X, y), desc=\"Training Folds\", total=10)):\n",
    "        X_train, X_val = X.iloc[train_idx], X.iloc[test_idx]\n",
    "        y_train, y_val = y.iloc[train_idx], y.iloc[test_idx]\n",
    "\n",
    "        \n",
    "        voting_clf.fit(X_train, y_train)\n",
    "\n",
    "        # predict on traing & testing set\n",
    "        y_train_pred = voting_clf.predict(X_train)\n",
    "        y_val_pred = voting_clf.predict(X_val)\n",
    "        \n",
    "        # update prediction\n",
    "        oof_non_rounded[test_idx] = y_val_pred\n",
    "        y_val_pred_rounded = y_val_pred.round(0).astype(int)\n",
    "        oof_rounded[test_idx] = y_val_pred_rounded\n",
    "\n",
    "        # Calculate QWK for training and validation\n",
    "        train_kappa = quadratic_weighted_kappa(y_train, y_train_pred.round(0).astype(int))\n",
    "        val_kappa = quadratic_weighted_kappa(y_val, y_val_pred_rounded)\n",
    "        \n",
    "        # Store QWK scores for each fold\n",
    "        train_S.append(train_kappa)\n",
    "        test_S.append(val_kappa)\n",
    "\n",
    "        # Store the predictions for the test set\n",
    "        test_preds[:, fold] = voting_clf.predict(test_data)\n",
    "\n",
    "    # After all folds\n",
    "    print(f\"Mean Train QWK --> {np.mean(train_S):.4f}\")\n",
    "    print(f\"Mean Validation QWK --> {np.mean(test_S):.4f}\")\n",
    "\n",
    "    # Optimize threshold\n",
    "    KappaOPtimizer = minimize(evaluate_predictions,\n",
    "                              x0=[0.5, 1.5, 2.5], args=(y, oof_non_rounded), \n",
    "                              method='Nelder-Mead')\n",
    "    \n",
    "    \n",
    "    # Tune the OOF predictions using optimized thresholds\n",
    "    oof_tuned = threshold_Rounder(oof_non_rounded, KappaOPtimizer.x)\n",
    "    tKappa = quadratic_weighted_kappa(y, oof_tuned)\n",
    "\n",
    "    print(f\"----> || Optimized QWK SCORE :: {tKappa:.3f}\")\n",
    "\n",
    "    # Average test predictions across all folds\n",
    "    tpm = test_preds.mean(axis=1)\n",
    "    tpTuned = threshold_Rounder(tpm, KappaOPtimizer.x)\n",
    "\n",
    "    # Create the submission\n",
    "    submission = pd.DataFrame({\n",
    "        'id': test_df['id'],\n",
    "        'sii': tpTuned\n",
    "    })\n",
    "\n",
    "    return submission\n",
    "\n",
    "    # Create submission\n",
    "    submission = pd.DataFrame({\n",
    "        'id': test['id'],  # Assuming test_data has an index for IDs\n",
    "        'sii': tpTuned\n",
    "    })\n",
    "\n",
    "    print(\"Submission created successfully!\")\n",
    "    return submission\n"
   ]
  },
  {
   "cell_type": "code",
   "execution_count": 28,
   "id": "212a1ca2",
   "metadata": {
    "execution": {
     "iopub.execute_input": "2024-12-15T05:43:22.383278Z",
     "iopub.status.busy": "2024-12-15T05:43:22.382795Z",
     "iopub.status.idle": "2024-12-15T05:43:22.387841Z",
     "shell.execute_reply": "2024-12-15T05:43:22.387030Z"
    },
    "papermill": {
     "duration": 0.032793,
     "end_time": "2024-12-15T05:43:22.389456",
     "exception": false,
     "start_time": "2024-12-15T05:43:22.356663",
     "status": "completed"
    },
    "tags": []
   },
   "outputs": [],
   "source": [
    "# define input\n",
    "X = selected_df\n",
    "y = usable_train_df['sii']\n",
    "test_data_use = test.drop(columns=\"id\")"
   ]
  },
  {
   "cell_type": "markdown",
   "id": "bdb23e24",
   "metadata": {
    "papermill": {
     "duration": 0.024906,
     "end_time": "2024-12-15T05:43:22.440009",
     "exception": false,
     "start_time": "2024-12-15T05:43:22.415103",
     "status": "completed"
    },
    "tags": []
   },
   "source": [
    "# Submit"
   ]
  },
  {
   "cell_type": "code",
   "execution_count": 29,
   "id": "01205607",
   "metadata": {
    "execution": {
     "iopub.execute_input": "2024-12-15T05:43:22.492835Z",
     "iopub.status.busy": "2024-12-15T05:43:22.492464Z",
     "iopub.status.idle": "2024-12-15T05:43:59.451561Z",
     "shell.execute_reply": "2024-12-15T05:43:59.450633Z"
    },
    "papermill": {
     "duration": 36.987984,
     "end_time": "2024-12-15T05:43:59.453477",
     "exception": false,
     "start_time": "2024-12-15T05:43:22.465493",
     "status": "completed"
    },
    "tags": []
   },
   "outputs": [
    {
     "name": "stderr",
     "output_type": "stream",
     "text": [
      "Training Folds: 100%|██████████| 10/10 [00:36<00:00,  3.67s/it]\n"
     ]
    },
    {
     "name": "stdout",
     "output_type": "stream",
     "text": [
      "Mean Train QWK --> 0.7423\n",
      "Mean Validation QWK --> 0.3972\n",
      "----> || Optimized QWK SCORE :: 0.465\n"
     ]
    }
   ],
   "source": [
    "submission = ModelTraining(X, y, test_data_use)"
   ]
  },
  {
   "cell_type": "code",
   "execution_count": 30,
   "id": "20ba98f7",
   "metadata": {
    "execution": {
     "iopub.execute_input": "2024-12-15T05:43:59.508840Z",
     "iopub.status.busy": "2024-12-15T05:43:59.508230Z",
     "iopub.status.idle": "2024-12-15T05:43:59.516856Z",
     "shell.execute_reply": "2024-12-15T05:43:59.515986Z"
    },
    "papermill": {
     "duration": 0.038202,
     "end_time": "2024-12-15T05:43:59.518628",
     "exception": false,
     "start_time": "2024-12-15T05:43:59.480426",
     "status": "completed"
    },
    "tags": []
   },
   "outputs": [
    {
     "data": {
      "text/html": [
       "<div>\n",
       "<style scoped>\n",
       "    .dataframe tbody tr th:only-of-type {\n",
       "        vertical-align: middle;\n",
       "    }\n",
       "\n",
       "    .dataframe tbody tr th {\n",
       "        vertical-align: top;\n",
       "    }\n",
       "\n",
       "    .dataframe thead th {\n",
       "        text-align: right;\n",
       "    }\n",
       "</style>\n",
       "<table border=\"1\" class=\"dataframe\">\n",
       "  <thead>\n",
       "    <tr style=\"text-align: right;\">\n",
       "      <th></th>\n",
       "      <th>id</th>\n",
       "      <th>sii</th>\n",
       "    </tr>\n",
       "  </thead>\n",
       "  <tbody>\n",
       "    <tr>\n",
       "      <th>0</th>\n",
       "      <td>00008ff9</td>\n",
       "      <td>1</td>\n",
       "    </tr>\n",
       "    <tr>\n",
       "      <th>1</th>\n",
       "      <td>000fd460</td>\n",
       "      <td>0</td>\n",
       "    </tr>\n",
       "    <tr>\n",
       "      <th>2</th>\n",
       "      <td>00105258</td>\n",
       "      <td>1</td>\n",
       "    </tr>\n",
       "    <tr>\n",
       "      <th>3</th>\n",
       "      <td>00115b9f</td>\n",
       "      <td>0</td>\n",
       "    </tr>\n",
       "    <tr>\n",
       "      <th>4</th>\n",
       "      <td>0016bb22</td>\n",
       "      <td>0</td>\n",
       "    </tr>\n",
       "    <tr>\n",
       "      <th>5</th>\n",
       "      <td>001f3379</td>\n",
       "      <td>1</td>\n",
       "    </tr>\n",
       "    <tr>\n",
       "      <th>6</th>\n",
       "      <td>0038ba98</td>\n",
       "      <td>1</td>\n",
       "    </tr>\n",
       "    <tr>\n",
       "      <th>7</th>\n",
       "      <td>0068a485</td>\n",
       "      <td>0</td>\n",
       "    </tr>\n",
       "    <tr>\n",
       "      <th>8</th>\n",
       "      <td>0069fbed</td>\n",
       "      <td>1</td>\n",
       "    </tr>\n",
       "    <tr>\n",
       "      <th>9</th>\n",
       "      <td>0083e397</td>\n",
       "      <td>0</td>\n",
       "    </tr>\n",
       "    <tr>\n",
       "      <th>10</th>\n",
       "      <td>0087dd65</td>\n",
       "      <td>0</td>\n",
       "    </tr>\n",
       "    <tr>\n",
       "      <th>11</th>\n",
       "      <td>00abe655</td>\n",
       "      <td>0</td>\n",
       "    </tr>\n",
       "    <tr>\n",
       "      <th>12</th>\n",
       "      <td>00ae59c9</td>\n",
       "      <td>1</td>\n",
       "    </tr>\n",
       "    <tr>\n",
       "      <th>13</th>\n",
       "      <td>00af6387</td>\n",
       "      <td>1</td>\n",
       "    </tr>\n",
       "    <tr>\n",
       "      <th>14</th>\n",
       "      <td>00bd4359</td>\n",
       "      <td>1</td>\n",
       "    </tr>\n",
       "    <tr>\n",
       "      <th>15</th>\n",
       "      <td>00c0cd71</td>\n",
       "      <td>1</td>\n",
       "    </tr>\n",
       "    <tr>\n",
       "      <th>16</th>\n",
       "      <td>00d56d4b</td>\n",
       "      <td>0</td>\n",
       "    </tr>\n",
       "    <tr>\n",
       "      <th>17</th>\n",
       "      <td>00d9913d</td>\n",
       "      <td>1</td>\n",
       "    </tr>\n",
       "    <tr>\n",
       "      <th>18</th>\n",
       "      <td>00e6167c</td>\n",
       "      <td>0</td>\n",
       "    </tr>\n",
       "    <tr>\n",
       "      <th>19</th>\n",
       "      <td>00ebc35d</td>\n",
       "      <td>0</td>\n",
       "    </tr>\n",
       "  </tbody>\n",
       "</table>\n",
       "</div>"
      ],
      "text/plain": [
       "          id  sii\n",
       "0   00008ff9    1\n",
       "1   000fd460    0\n",
       "2   00105258    1\n",
       "3   00115b9f    0\n",
       "4   0016bb22    0\n",
       "5   001f3379    1\n",
       "6   0038ba98    1\n",
       "7   0068a485    0\n",
       "8   0069fbed    1\n",
       "9   0083e397    0\n",
       "10  0087dd65    0\n",
       "11  00abe655    0\n",
       "12  00ae59c9    1\n",
       "13  00af6387    1\n",
       "14  00bd4359    1\n",
       "15  00c0cd71    1\n",
       "16  00d56d4b    0\n",
       "17  00d9913d    1\n",
       "18  00e6167c    0\n",
       "19  00ebc35d    0"
      ]
     },
     "execution_count": 30,
     "metadata": {},
     "output_type": "execute_result"
    }
   ],
   "source": [
    "submission"
   ]
  },
  {
   "cell_type": "code",
   "execution_count": 31,
   "id": "c13e339b",
   "metadata": {
    "execution": {
     "iopub.execute_input": "2024-12-15T05:43:59.615830Z",
     "iopub.status.busy": "2024-12-15T05:43:59.615436Z",
     "iopub.status.idle": "2024-12-15T05:43:59.624001Z",
     "shell.execute_reply": "2024-12-15T05:43:59.623161Z"
    },
    "papermill": {
     "duration": 0.080017,
     "end_time": "2024-12-15T05:43:59.625686",
     "exception": false,
     "start_time": "2024-12-15T05:43:59.545669",
     "status": "completed"
    },
    "tags": []
   },
   "outputs": [
    {
     "data": {
      "text/plain": [
       "sii\n",
       "1    10\n",
       "0    10\n",
       "Name: count, dtype: int64"
      ]
     },
     "execution_count": 31,
     "metadata": {},
     "output_type": "execute_result"
    }
   ],
   "source": [
    "submission['sii'].value_counts()"
   ]
  },
  {
   "cell_type": "code",
   "execution_count": 32,
   "id": "06362011",
   "metadata": {
    "execution": {
     "iopub.execute_input": "2024-12-15T05:43:59.680668Z",
     "iopub.status.busy": "2024-12-15T05:43:59.680144Z",
     "iopub.status.idle": "2024-12-15T05:43:59.686429Z",
     "shell.execute_reply": "2024-12-15T05:43:59.685629Z"
    },
    "papermill": {
     "duration": 0.035654,
     "end_time": "2024-12-15T05:43:59.688180",
     "exception": false,
     "start_time": "2024-12-15T05:43:59.652526",
     "status": "completed"
    },
    "tags": []
   },
   "outputs": [],
   "source": [
    "submission.to_csv(\"submission.csv\", index=False)"
   ]
  },
  {
   "cell_type": "code",
   "execution_count": null,
   "id": "81a30913",
   "metadata": {
    "papermill": {
     "duration": 0.026371,
     "end_time": "2024-12-15T05:43:59.741249",
     "exception": false,
     "start_time": "2024-12-15T05:43:59.714878",
     "status": "completed"
    },
    "tags": []
   },
   "outputs": [],
   "source": []
  }
 ],
 "metadata": {
  "kaggle": {
   "accelerator": "none",
   "dataSources": [
    {
     "databundleVersionId": 9643020,
     "sourceId": 81933,
     "sourceType": "competition"
    }
   ],
   "dockerImageVersionId": 30804,
   "isGpuEnabled": false,
   "isInternetEnabled": false,
   "language": "python",
   "sourceType": "notebook"
  },
  "kernelspec": {
   "display_name": "Python 3",
   "language": "python",
   "name": "python3"
  },
  "language_info": {
   "codemirror_mode": {
    "name": "ipython",
    "version": 3
   },
   "file_extension": ".py",
   "mimetype": "text/x-python",
   "name": "python",
   "nbconvert_exporter": "python",
   "pygments_lexer": "ipython3",
   "version": "3.10.14"
  },
  "papermill": {
   "default_parameters": {},
   "duration": 169.509547,
   "end_time": "2024-12-15T05:44:01.491788",
   "environment_variables": {},
   "exception": null,
   "input_path": "__notebook__.ipynb",
   "output_path": "__notebook__.ipynb",
   "parameters": {},
   "start_time": "2024-12-15T05:41:11.982241",
   "version": "2.6.0"
  }
 },
 "nbformat": 4,
 "nbformat_minor": 5
}
